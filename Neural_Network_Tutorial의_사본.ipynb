{
  "nbformat": 4,
  "nbformat_minor": 0,
  "metadata": {
    "colab": {
      "provenance": [],
      "collapsed_sections": [
        "foqSUAYoAlVp",
        "8c0yeebaBEAH",
        "FHDNufM5BwO9",
        "yaCY1QD8_jzH",
        "JngCEQPgEMzq",
        "gwrq_xMLE4fM",
        "mreHJxPMJPZt",
        "QVMGUrCipHnP",
        "O38ZZijC4mmH",
        "fZlOvyOa7Ext",
        "cFHu6yz8UnW5"
      ],
      "include_colab_link": true
    },
    "kernelspec": {
      "name": "python3",
      "display_name": "Python 3"
    },
    "language_info": {
      "name": "python"
    }
  },
  "cells": [
    {
      "cell_type": "markdown",
      "metadata": {
        "id": "view-in-github",
        "colab_type": "text"
      },
      "source": [
        "<a href=\"https://colab.research.google.com/github/JiyoonJeong-Archive/Abnormal-EEG-Signal-Classification-Using-CNNs/blob/main/Neural_Network_Tutorial%EC%9D%98_%EC%82%AC%EB%B3%B8.ipynb\" target=\"_parent\"><img src=\"https://colab.research.google.com/assets/colab-badge.svg\" alt=\"Open In Colab\"/></a>"
      ]
    },
    {
      "cell_type": "markdown",
      "metadata": {
        "id": "kJEh9hhVP01k"
      },
      "source": [
        "<p align='center'><img src='https://github.com/jmasis/nntutorialmentaleffort2021/raw/main/Banner.jpg'\n",
        "alt=\"2 Layer Network\" height=175px width=auto/></p>\n",
        "\n",
        "# **2nd Workshop on Mental Effort**\n",
        "# Tutorial 2: An Introduction to Neural Network Modeling\n",
        "Sebastian Musslick & Javier Alejandro Masis"
      ]
    },
    {
      "cell_type": "markdown",
      "metadata": {
        "id": "h5dfiQNaRA89"
      },
      "source": [
        "## Outline"
      ]
    },
    {
      "cell_type": "markdown",
      "metadata": {
        "id": "UCb2uZr2QUHx"
      },
      "source": [
        "This notebook is composed of three sections, each introducing different concepts of neural network modeling.\n",
        "\n",
        "1.   In the **first section** we will train a **2-layer feed-forward network** to perform different logical operations (AND/OR/XOR). Using the **delta-rule**, we will teach the network to learn both the *AND* rule, as well as the *OR* rule. Finally, we will investigate the limitations of this network by training it on the non-linear *eXclusive OR (XOR)* rule.\n",
        "\n",
        "2.   In the **second section** we will train a **3-layer neural network** with a set of non-linear hidden units. We will use **backpropagation** to train the network and show that it is able to learn the XOR rule.\n",
        "<!-- We will also make an attempt to investigate the network's learned weights in order to understand it's learned solution. -->\n",
        "\n",
        "3.   ***BONUS:*** In the **third section**, we will build a **connectionist model of cognitive control** (Cohen, Dunbar & McClelland, 1990), and will train it to perform the Stroop task. We will then investigate the model's ability to reproduce the response congruency effect."
      ]
    },
    {
      "cell_type": "markdown",
      "metadata": {
        "id": "oYZV3vOqQZmU"
      },
      "source": [
        "## Before we start: Let's import some packages.\n",
        "\n",
        "To execute the code block below, click on the little arrow symbol on the left side of the code block:"
      ]
    },
    {
      "cell_type": "code",
      "metadata": {
        "id": "CzDeE6sdP-eM"
      },
      "source": [
        "import numpy as np # for doing math easily in python\n",
        "import matplotlib.pyplot as plt # for plotting in python\n",
        "import seaborn as sns # for beautiful plots in python"
      ],
      "execution_count": null,
      "outputs": []
    },
    {
      "cell_type": "markdown",
      "metadata": {
        "id": "qWJciWz8qHXg"
      },
      "source": [
        "This might take a minute or two. The arrow should turn into a [1] once the code executed successfully and the packages are loaded. Let's now dive into our first neural network simulation!"
      ]
    },
    {
      "cell_type": "markdown",
      "metadata": {
        "id": "jgbKp0CVqbbU"
      },
      "source": [
        "## Simulation 1: Two-Layer Neural Network and the Delta-Rule"
      ]
    },
    {
      "cell_type": "markdown",
      "metadata": {
        "id": "avCOpEtmyiBI"
      },
      "source": [
        "In this simulation we will train a 2-layer feed-forward network to perform different logical operations (AND/OR/XOR)&mdash;also called \"gates\"&mdash;based on two input variables. This section will introduce you to the delta rule, one of the most basic learning rules in neural networks. It will also demonstrate fundamental computational limitations of neural networks as famously pointed out by Minsky & Papert (1969)."
      ]
    },
    {
      "cell_type": "markdown",
      "metadata": {
        "id": "xFahCTI3QfHg"
      },
      "source": [
        "### Training Environment"
      ]
    },
    {
      "cell_type": "markdown",
      "metadata": {
        "id": "W2GoAL5uQEk_"
      },
      "source": [
        "Before we build the 2-layer network, we need to define what the network will be tasked with. All tasks provided to the network are expressed as patterns in the training environment. There are two types of patterns. <font color='#4C6EBC'>**Input patterns**</font> are provided to the input layer of the network. <font color='#B04E43'>**Training or output patterns**</font> represent the 'correct' response to the input patterns.\n",
        "\n",
        "We will define 3 different training environments that are based on the *boolean functions* AND, OR and XOR. The input patterns for each of the environments is the same. Each input pattern consists of 2 bits that are passed to the network. That is, the network takes as input two values that can be either 0 or 1. Each of the three boolean functions (AND/OR/XOR) defines how these two inputs are combined to a single binary output value.\n",
        "\n",
        "Boolean functions can be expressed in a *truth table*. Every row in a truth table represents a single input pattern with its corresponding output pattern. Below you will find the truth tables for each of the boolean functions that we will use for training.\n",
        "\n",
        "\n",
        "<br>\n",
        "<center>**AND**</center>\n",
        "\n",
        "| <font color='#4C6EBC'>Input 1 | <font color='#4C6EBC'>Input 2 | <font color='#B04E43'>Output</font> |\n",
        "|---------|---------|--------|\n",
        "| <font color='#4C6EBC'>0       | <font color='#4C6EBC'>0       | <font color='#B04E43'>0      |\n",
        "| <font color='#4C6EBC'>0       | <font color='#4C6EBC'>1       | <font color='#B04E43'>0</font>      |\n",
        "| <font color='#4C6EBC'>1       | <font color='#4C6EBC'>0       | <font color='#B04E43'>0</font>      |\n",
        "| <font color='#4C6EBC'>1       | <font color='#4C6EBC'>1       | <font color='#B04E43'>1</font>      |\n",
        "\n",
        "<br>\n",
        "<center>**OR**</center>\n",
        "\n",
        "| <font color='#4C6EBC'>Input 1 | <font color='#4C6EBC'>Input 2 | <font color='#B04E43'>Output</font> |\n",
        "|---------|---------|--------|\n",
        "| <font color='#4C6EBC'>0       | <font color='#4C6EBC'>0       | <font color='#B04E43'>0</font>      |\n",
        "| <font color='#4C6EBC'>0       | <font color='#4C6EBC'>1       | <font color='#B04E43'>1</font>      |\n",
        "| <font color='#4C6EBC'>1       | <font color='#4C6EBC'>0       | <font color='#B04E43'>1</font>      |\n",
        "| <font color='#4C6EBC'>1       | <font color='#4C6EBC'>1       | <font color='#B04E43'>1</font>      |\n",
        "\n",
        "\n",
        "<br>\n",
        "<center>**XOR**</center>\n",
        "\n",
        "| <font color='#4C6EBC'>Input 1 | <font color='#4C6EBC'>Input 2 | <font color='#B04E43'>Output</font> |\n",
        "|---------|---------|--------|\n",
        "| <font color='#4C6EBC'>0       | <font color='#4C6EBC'>0       | <font color='#B04E43'>0</font>      |\n",
        "| <font color='#4C6EBC'>0       | <font color='#4C6EBC'>1       | <font color='#B04E43'>1</font>      |\n",
        "| <font color='#4C6EBC'>1       | <font color='#4C6EBC'>0       | <font color='#B04E43'>1</font>      |\n",
        "| <font color='#4C6EBC'>1       | <font color='#4C6EBC'>1       | <font color='#B04E43'>0</font>      |\n",
        "\n",
        "Let's generate these input and output patterns by executing the following code block...\n"
      ]
    },
    {
      "cell_type": "code",
      "metadata": {
        "id": "jYizKsSbQPf7"
      },
      "source": [
        "# define input patterns (same across the different logical tasks)\n",
        "input_patterns = np.array([[ 0.,  0.],\n",
        "                           [ 0.,  1.],\n",
        "                           [ 1.,  0.],\n",
        "                           [ 1.,  1.]])\n",
        "\n",
        "# define output patterns for AND rule\n",
        "output_patterns_AND = np.array([[ 0.],\n",
        "                                [ 0.],\n",
        "                                [ 0.],\n",
        "                                [ 1.]])\n",
        "\n",
        "# define output patterns for OR rule\n",
        "output_patterns_OR = np.array([[ 0.],\n",
        "                               [ 1.],\n",
        "                               [ 1.],\n",
        "                               [ 1.]])\n",
        "\n",
        "output_patterns_XOR = np.array([[ 0.],\n",
        "                                [ 1.],\n",
        "                                [ 1.],\n",
        "                                [ 0.]])"
      ],
      "execution_count": null,
      "outputs": []
    },
    {
      "cell_type": "markdown",
      "metadata": {
        "id": "fP4UU_F3RMii"
      },
      "source": [
        "### Network Training\n",
        "\n",
        "Now that we have the training data let's build the actual network. Our desired network looks like this:\n",
        "\n",
        "<p align='center'><img src='https://github.com/jmasis/nntutorialmentaleffort2021/blob/a47c4f5fc7eae409c60a63b317a5cce7f92948d6/2LNetwork.png?raw=True'\n",
        "alt=\"2 Layer Network\" width=400px height=auto/></p>\n",
        "\n",
        "<!-- ![picture](https://github.com/jmasis/nntutorialmentaleffort2021/blob/a47c4f5fc7eae409c60a63b317a5cce7f92948d6/2LNetwork.png?raw=True) -->\n",
        "\n",
        "The input layer of the network encompasses two units. These two input units project to the unit of the output layer. Training a neural network typically encompasses two steps. First, we present an input pattern to the network and let it compute the corresponding output pattern. We call this step **forward pass** since it passes information forward, from the input layer to the output layer. Second, we need to compare the output that the network produced with the true (correct) output. The resulting error is used to adjust the weights of the network, starting from the \"top\" (the output layer\"), and moving to the \"bottom\" (the input layer). We will call this step the **backward pass** since the error is passed backwards through the network, to adjust its weights.\n",
        "\n",
        "The function `train2LayerNetwork` defined below is used to train the network, by iterating between the forward pass and the backward pass. Your task will be to fill in the missing code in this function. The function will perform the following computations (steps marked in **bold** are the focus of the exercises).\n",
        "\n",
        "1) Initialization: This step involves initializing layers and weights\n",
        "\n",
        "2) **Forward Pass**: In this step we will compute the network's activity based on its input pattern and its weights.\n",
        "\n",
        "3) **Backward Pass**: In this step we will adjust the weights of the network based on the produced output patterns of the network and the feedback provided by the training patterns\n",
        "\n",
        "Steps 2) and 3) will be performed for each input pattern in each training iteration. Before we tinker with the code, let's discuss each step in detail, beginning with the forward pass."
      ]
    },
    {
      "cell_type": "markdown",
      "metadata": {
        "id": "KMEC-82QVQRl"
      },
      "source": [
        "#### Forward Pass ####"
      ]
    },
    {
      "cell_type": "markdown",
      "metadata": {
        "id": "53rM6UgNT2hB"
      },
      "source": [
        "\n",
        "In the forward pass we will propagate activity through the network, layer by layer. In feedforward networks, we already know the activity of the input layer as it corresponds to the input pattern. Therefore, We will begin with computing the activity of the units in the second layer.\n",
        "\n",
        "Let's say that the second layer has $N$ units. Let $y_j$\n",
        "be the activation of a unit in the second layer that we want to compute where $j \\in \\{1,...,N\\}$. The activation of a unit is a function of its net input. In neural network models of cognition, single units often represent populations of neurons. The higher the activity of a unit, the more neurons are active (responding) in the corresponding neural population. We are usually interested in **differentiable, monotonic functions**, such as the **logistic function** (see Excursion below):\n",
        "<br/><br/>\n",
        "\n",
        "\\begin{equation}\n",
        "y_j = \\textrm{logistic}(net_{y_j}) = \\frac{1}{1+e^{-net_{y_j}}}\n",
        "\\end{equation}\n",
        "\n",
        "<br/><br/>\n",
        "When we plot $y_j$ (the unit's activity) as a function of its net input, we get something like this:\n",
        "\n",
        "<p align='center'><img src='https://github.com/jmasis/nntutorialmentaleffort2021/blob/a47c4f5fc7eae409c60a63b317a5cce7f92948d6/2LSigmoid.png?raw=True'\n",
        "alt=\"2 Layer Network\" width=400px height=auto/></p>"
      ]
    },
    {
      "cell_type": "markdown",
      "metadata": {
        "id": "bl5bSsABWZjx"
      },
      "source": [
        "##### **Excursion: What is a differentiable, monotonic function?**\n",
        "\n",
        "###### <ins>Differentiable</ins>\n",
        "A differentiable function is a function that has a derivative for every point in which it exists. For example, $f(x) = 2x$ is a differentiable function because its derivative $\\frac{d}{dx}f(x) = 2$ (its slope or rate of change) for every point in $x$.\n",
        "\n",
        "However, we can define a function\n",
        "\n",
        "$$\n",
        "g(x) = |x|\n",
        "$$\n",
        "\n",
        "that is defined for every point, but it is *not* differentiable because there is a discontinuity, or *jump*, in the derivative at $x = 0$.\n",
        "\n",
        "###### <ins>Monotonic</ins>\n",
        "\n",
        "A monotonic function, is a function that is always increasing, or always decreasing, but not changing directions, such as $f(x) = 2x$ or $f(x) = -2x$. Even our function $g(x)$ from above is also monotonic. .\n",
        "\n",
        "###### <ins>Differentiable versus Monotonic</ins>\n",
        "\n",
        "Is our non-differentiable function $g(x)$ from above monotonic?\n",
        "\n",
        "Is the function $f(x) = \\sin(x)$ monotonic? Is it differentiable?"
      ]
    },
    {
      "cell_type": "markdown",
      "metadata": {
        "id": "X2TnEHPyDx-A"
      },
      "source": [
        "##### <ins>*Thought question*</ins>\n",
        "*Why do we desire differentiable, monotonic activation functions?*"
      ]
    },
    {
      "cell_type": "markdown",
      "metadata": {
        "id": "foqSUAYoAlVp"
      },
      "source": [
        "###### <ins>*Answer*</ins>"
      ]
    },
    {
      "cell_type": "markdown",
      "metadata": {
        "id": "L-AB6thyAwj8"
      },
      "source": [
        "For technical reasons, we are usually interested in **differentiable** activation functions. This is because we need to differentiate these functions for the backward pass (see the next section). In addition, since we are interested in modeling processes of the human brain, we would like the activation function to be **monotonically** increasing. This means: the higher the input to the unit, the higher its activity (i.e. the stronger the response of the underlying neural population). Finally, we would like to constrain the activity of the unit. For instance, we wouldn't want to allow for activations below 0 (what does that even mean?), so we set a lower bound at 0 (0% activity). For convenience, we also would want to limit our activity to 1 (corresponding to 100% activity). Fortunately, the sigmoid function introduced above fits our needs."
      ]
    },
    {
      "cell_type": "markdown",
      "metadata": {
        "id": "CLfqvfDaWUEK"
      },
      "source": [
        "##### **How do we integrate a unit's inputs?**\n",
        "\n",
        "The sigmoid activation function makes sure that the activation of a unit is bound between 0 and 1. However, in order to compute the activity $y_j$ we need to know the net input of a unit. The net input of unit $y_j$ is simply the sum of the activity of the sending units in the previous layer, weighted by their projection weights. Let's say that the sending, input layer $x$ has $M$ units. Then the net input $y_j$ of a unit in the receiving layer corresponds to the sum of the inputs from the sending layer, weighted by the weights that connect the sending layer with the receiving layer,\n",
        "\n",
        "\\begin{equation}\n",
        "net_{y_j} = \\sum_{i=1}^M x_i w_{j,i}\n",
        "\\end{equation}\n",
        "\n",
        "\n",
        "where $x_i$ corresponds to the activity of input unit $i$ and $w_{j,i}$ corresponds to the weight of input unit $i$ to unit $j$ in the second layer."
      ]
    },
    {
      "cell_type": "markdown",
      "metadata": {
        "id": "0dfzZ1wsfjc1"
      },
      "source": [
        "##### **Let's manually compute the activation of $y_{j}$**\n",
        "\n",
        "Now that we know the general rule to compute the activity of a neural network we can apply this to our example above. Say we want to compute the network's activity for the input pattern $[0,1]$. Since this is a very simple network, all we need to do is compute the activity of the unit $y_1$ in the second (output) layer.\n",
        "\n",
        "<p align='center'><img src='https://github.com/jmasis/nntutorialmentaleffort2021/blob/a47c4f5fc7eae409c60a63b317a5cce7f92948d6/2LNetwork.png?raw=True'\n",
        "alt=\"2 Layer Network\" width=200px height=auto/></p>\n",
        "\n",
        "<!-- Let's assume that the network has the weights -->\n",
        "\n",
        "<!-- $w_{1,1} = -0.5$\n",
        "\n",
        "$w_{1,2} = 2$.\n",
        "\n",
        "Since the input pattern is $[0,1]$, the the input layer units take on the following values:\n",
        "\n",
        "$x_1 = 1$\n",
        "\n",
        "$x_2 = 0$.\n",
        "\n",
        "Now we can compute the net input of $y_1$:\n",
        "\n",
        "$net_{y_1} = w_{1,1} x_1 + w_{1,2} x_2 = 0.5 * 1 + 2 * 0 = -0.5$\n",
        "\n",
        "Finally we can compute the activation of the unit for the input $[0,1]$:\n",
        "\n",
        "$y_1 = \\frac{1}{1+e^{-net_{y_1}}} = \\frac{1}{1+e^{-(-0.5)}} = 0.3775406688$ -->"
      ]
    },
    {
      "cell_type": "markdown",
      "metadata": {
        "id": "USWqyhdMcuzf"
      },
      "source": [
        "##### **Exercise 1.1**\n",
        "Fill in the missing parts needed to compute the output unit's net input, as well as its activation."
      ]
    },
    {
      "cell_type": "code",
      "metadata": {
        "colab": {
          "base_uri": "https://localhost:8080/"
        },
        "id": "yete_cA0gF-K",
        "outputId": "a576281d-55d9-4139-dc40-6469612f2c46"
      },
      "source": [
        "## Let's assume that the network has the weights\n",
        "w_1_1 = -0.5\n",
        "w_1_2 = 2\n",
        "\n",
        "## Since the input pattern is [1,0],\n",
        "## the input layer units take on the following values\n",
        "x_1 = 1\n",
        "x_2 = 0\n",
        "\n",
        "## Now we can compute the net input of y_1:\n",
        "net_y_1 = x_1 * w_1_1 + x_2 * w_1_2\n",
        "print(f'net_y_1 = {net_y_1}')\n",
        "\n",
        "## Finally, we can compute the activation of y_1:\n",
        "y_1 = 1 / (1 + np.exp(-net_y_1))\n",
        "print(f'y_1 = {y_1}')"
      ],
      "execution_count": null,
      "outputs": [
        {
          "output_type": "stream",
          "name": "stdout",
          "text": [
            "net_y_1 = -0.5\n",
            "y_1 = 0.3775406687981454\n"
          ]
        }
      ]
    },
    {
      "cell_type": "markdown",
      "metadata": {
        "id": "8c0yeebaBEAH"
      },
      "source": [
        "###### **Solution**"
      ]
    },
    {
      "cell_type": "code",
      "metadata": {
        "colab": {
          "base_uri": "https://localhost:8080/"
        },
        "id": "WW1XeQFQBI-1",
        "outputId": "ce988b03-c17d-44cb-a9ed-ea3a693e932e"
      },
      "source": [
        "## Let's assume that the network has the weights\n",
        "w_1_1 = -0.5\n",
        "w_1_2 = 2\n",
        "\n",
        "## Since the input pattern is [0,1],\n",
        "## the input layer units take on the following values\n",
        "x_1 = 1\n",
        "x_2 = 0\n",
        "\n",
        "## Now we can compute the net input of y_1:\n",
        "net_y_1 = w_1_1*x_1 + w_1_2*x_2\n",
        "print(f'net_y_1 = {net_y_1}')\n",
        "\n",
        "## Finally, we can compute the activation of y_1:\n",
        "y_1 = 1 / (1 + np.exp(-net_y_1))\n",
        "print(f'y_1 = {y_1}')"
      ],
      "execution_count": null,
      "outputs": [
        {
          "output_type": "stream",
          "name": "stdout",
          "text": [
            "net_y_1 = -0.5\n",
            "y_1 = 0.3775406687981454\n"
          ]
        }
      ]
    },
    {
      "cell_type": "markdown",
      "metadata": {
        "id": "7i4zqG2SNn0Y"
      },
      "source": [
        "##### **Quick aside on notation!**\n",
        "\n",
        "Rather than defining the weights and input units separately (e.g. $w_{1,1}$ and $w_{1,2}$), we can define them more compactly as vectors (and eventually matrices) in order to make it easier to write out what is happening. If we do this, then we have the input vector $x$ and the weight vector $w$\n",
        "\n",
        "\\begin{equation}\n",
        "x = \\begin{bmatrix} 1 \\\\ 0 \\end{bmatrix}, w = \\begin{bmatrix} -0.5 \\\\ 2 \\end{bmatrix}\n",
        "\\end{equation}\n",
        "\n",
        "The above sum takes two vectors and turns them into one number, a constant or scalar. That tells us that we can write it out as a **dot product**,\n",
        "\n",
        "\\begin{equation}\n",
        "net_{y_j} = \\sum_{i=1}^M x_i w_{j,i} = x \\cdot w\n",
        "\\end{equation}\n",
        "\n",
        "which can be written as the transpose of $x$ (horizontal/row vector instead of vertical/column vector) times $w$,\n",
        "\n",
        "\\begin{equation}\n",
        "net_{y_j} = x^{T}w = \\begin{bmatrix} 1 & 0 \\end{bmatrix} \\begin{bmatrix} -0.5 \\\\ 2 \\end{bmatrix}\n",
        "\\end{equation}"
      ]
    },
    {
      "cell_type": "markdown",
      "metadata": {
        "id": "abeTRtJzC_F6"
      },
      "source": [
        "##### **Exercise 1.2**\n",
        "Fill in the missing parts needed to compute the output unit's activation using vector computation, and see if you get the same answer. This is important because below we will use matrix format in our code."
      ]
    },
    {
      "cell_type": "code",
      "metadata": {
        "colab": {
          "base_uri": "https://localhost:8080/"
        },
        "id": "9I-dcRxUQr0B",
        "outputId": "eddbcced-dda1-4149-8a4d-233b5f0bd2ca"
      },
      "source": [
        "## Define the x and w vectors\n",
        "w = np.array([[-0.5],\n",
        "              [2]])\n",
        "x = np.array([[1],\n",
        "              [0]])\n",
        "\n",
        "## Calculate the net activation of y using the dot product\n",
        "net_y_1 = np.dot(x.T, w)\n",
        "print(f'net_y_1 = {net_y_1[0][0]}')\n",
        "\n",
        "## Finally, we can compute the activation of y_1:\n",
        "y_1 = 1 / (1 + np.exp(-net_y_1))\n",
        "print(f'y_1 = {y_1[0][0]}')"
      ],
      "execution_count": null,
      "outputs": [
        {
          "output_type": "stream",
          "name": "stdout",
          "text": [
            "net_y_1 = -0.5\n",
            "y_1 = 0.3775406687981454\n"
          ]
        }
      ]
    },
    {
      "cell_type": "markdown",
      "metadata": {
        "id": "FHDNufM5BwO9"
      },
      "source": [
        "###### **Solution**"
      ]
    },
    {
      "cell_type": "code",
      "metadata": {
        "colab": {
          "base_uri": "https://localhost:8080/"
        },
        "id": "YNepvOFNB1uq",
        "outputId": "0fb57fb8-0faf-45f1-c0ca-56670a0e142b"
      },
      "source": [
        "## Let's write it out in matrix format and see if we get the same answer.\n",
        "## This is important because below we will use matrix format in our code.\n",
        "\n",
        "## Define the x and w vectors\n",
        "w = np.array([[-0.5],\n",
        "              [2]])\n",
        "x = np.array([[1],\n",
        "              [0]])\n",
        "\n",
        "## Calculate the net activation of y using the dot product\n",
        "net_y_1 = np.dot(x.T,w) # alternative: x.T * w #\n",
        "print(f'net_y_1 = {net_y_1[0][0]}')\n",
        "\n",
        "## Finally, we can compute the activation of y_1:\n",
        "y_1 = 1 / (1 + np.exp(-net_y_1))\n",
        "print(f'y_1 = {y_1[0][0]}')"
      ],
      "execution_count": null,
      "outputs": [
        {
          "output_type": "stream",
          "name": "stdout",
          "text": [
            "net_y_1 = -0.5\n",
            "y_1 = 0.3775406687981454\n"
          ]
        }
      ]
    },
    {
      "cell_type": "markdown",
      "metadata": {
        "id": "qSbyb17HfYNr"
      },
      "source": [
        "##### **What does this output mean?**\n",
        "\n",
        " It means that the network implements a function that maps the input pattern $[0,1]$ to the value $0.3775406688$. But remember, the network has not been trained yet, and we have run it with the equivalent of *random weights*. All we've checked so far, is that it *runs*."
      ]
    },
    {
      "cell_type": "markdown",
      "metadata": {
        "id": "am9Pu9CofoCA"
      },
      "source": [
        "##### **Excursion: What if my network has more than two layers?**\n",
        "\n",
        "In a network with more than two layers, one would then proceed with computing the activation of the units in the third layer. This is done the same way as with the second layer: The activity of each unit in the third layer is some activation function of its net input. The net input is the weighted sum of the activities of the second layer where the weights correspond to the projection weights from the second to the third layer. In the feedforward pass one can apply this procedure layer by layer until the activity of the final (output) layer is computed."
      ]
    },
    {
      "cell_type": "markdown",
      "metadata": {
        "id": "p2e1u2oQDh-p"
      },
      "source": [
        "##### <ins>*Thought question*</ins>\n",
        "*In a network with more than 2 layers, could we calculate the forward pass all at once, or would we have to do it step by step? Why do you think so?*"
      ]
    },
    {
      "cell_type": "markdown",
      "metadata": {
        "id": "yaCY1QD8_jzH"
      },
      "source": [
        "###### <ins>*Answer*</ins>"
      ]
    },
    {
      "cell_type": "markdown",
      "metadata": {
        "id": "z5EEs1mu_rem"
      },
      "source": [
        "We can compute the activtiy of the output layer all at once. To illustrate this, consider the simple network above. There, we can compute the output\n",
        "\n",
        "\\begin{equation}\n",
        "y = \\textrm{logistic}(net_{y}) = \\textrm{logistic}(x^T \\cdot w)\n",
        "\\end{equation}\n",
        "\n",
        "Now say we wanted to add another layer with an output unit $z$, and let $y$ project to $z$ through the weight $\\gamma$. Furthermore, we assume that the activation function of unit $z$ is also a logistic. Then we can compute the output of the new network as follows:\n",
        "\n",
        "\\begin{aligned}\n",
        "z &= \\textrm{logistic}(net_{z}) = \\textrm{logistic}(y^T \\cdot \\gamma) \\\\\n",
        "z &= \\textrm{logistic}(\\textrm{logistic}(net_{y})^T \\cdot \\gamma) \\\\\n",
        "z &= \\textrm{logistic}(\\textrm{logistic}(x \\cdot w)^T \\cdot \\gamma)\n",
        "\\end{aligned}\n",
        "\n",
        "The last line expresses the full computation of a three-layer network."
      ]
    },
    {
      "cell_type": "markdown",
      "metadata": {
        "id": "xhN0dVM_ceCc"
      },
      "source": [
        "##### **Exercise 1.3**\n",
        "\n",
        "Let's say we wanted the network to implement a function like the OR-rule.\n",
        "\n",
        "<br>\n",
        "<center>**OR**</center>\n",
        "\n",
        "| <font color='#4C6EBC'>Input 1 | <font color='#4C6EBC'>Input 2 | <font color='#B04E43'>Output</font> |\n",
        "|---------|---------|--------|\n",
        "| <font color='#4C6EBC'>0       | <font color='#4C6EBC'>0       | <font color='#B04E43'>0</font>      |\n",
        "| <font color='#4C6EBC'>0       | <font color='#4C6EBC'>1       | <font color='#B04E43'>1</font>      |\n",
        "| <font color='#4C6EBC'>1       | <font color='#4C6EBC'>0       | <font color='#B04E43'>1</font>      |\n",
        "| <font color='#4C6EBC'>1       | <font color='#4C6EBC'>1       | <font color='#B04E43'>1</font>      |\n",
        "\n",
        "\n",
        "In this case we would like it if the network produced an output $y \\approx 1$ for the input pattern [0, 1] (because $0$ OR $1$ = $1$). We could do this by changing the weights of the network in a smart way. Change the weights such that  $y \\approx 1$ for the following input patterns, reproducing the OR gate: <br/>\n",
        "[0, 1] --> 1<br/>\n",
        "[1, 0] --> 1<br/>\n",
        "[1, 1] --> 1<br/>\n",
        "\n",
        "Can we also make the network produce the right response for the input pattern [0,0]?"
      ]
    },
    {
      "cell_type": "code",
      "metadata": {
        "colab": {
          "base_uri": "https://localhost:8080/"
        },
        "id": "kR2lLxMEeFuh",
        "outputId": "10a18b8a-f40a-469e-e577-f56b6ffdf6f2"
      },
      "source": [
        "## Define the x and w vectors\n",
        "w = np.array([[20],\n",
        "              [20]])\n",
        "x = np.array([[0],\n",
        "              [0]])\n",
        "\n",
        "## Calculate the net activation of y using the dot product\n",
        "net_y_1 = np.dot(x.T,w)\n",
        "print(f'net_y_1 = {net_y_1[0][0]}')\n",
        "\n",
        "## Finally, we can compute the activation of y_1:\n",
        "y_1 = 1 / (1 + np.exp(-net_y_1))\n",
        "print(f'y_1 = {y_1[0][0]}')"
      ],
      "execution_count": null,
      "outputs": [
        {
          "output_type": "stream",
          "name": "stdout",
          "text": [
            "net_y_1 = 0\n",
            "y_1 = 0.5\n"
          ]
        }
      ]
    },
    {
      "cell_type": "markdown",
      "metadata": {
        "id": "JngCEQPgEMzq"
      },
      "source": [
        "###### **Solution**"
      ]
    },
    {
      "cell_type": "code",
      "metadata": {
        "colab": {
          "base_uri": "https://localhost:8080/"
        },
        "id": "_Hva5KTQEOcH",
        "outputId": "a0c27d90-bc3c-4368-f82f-ad0c29b1c2b2"
      },
      "source": [
        "## Define the x and w vectors\n",
        "w = np.array([[10],   # change this value for w_1\n",
        "              [10]])     # change this value for w_2\n",
        "x = np.array([[1],\n",
        "              [0]])\n",
        "\n",
        "## Calculate the net activation of y using the dot product\n",
        "net_y_1 = np.dot(x.T,w)\n",
        "print(f'net_y_1 = {net_y_1[0][0]}')\n",
        "\n",
        "## Finally, we can compute the activation of y_1:\n",
        "y_1 = 1 / (1 + np.exp(-net_y_1))\n",
        "print(f'y_1 = {y_1[0][0]}')"
      ],
      "execution_count": null,
      "outputs": [
        {
          "output_type": "stream",
          "name": "stdout",
          "text": [
            "net_y_1 = 10\n",
            "y_1 = 0.9999546021312976\n"
          ]
        }
      ]
    },
    {
      "cell_type": "markdown",
      "metadata": {
        "id": "Y4elR41qikg2"
      },
      "source": [
        "#### Backward Pass ####"
      ]
    },
    {
      "cell_type": "markdown",
      "metadata": {
        "id": "LA_dS6ibimJH"
      },
      "source": [
        "Our goal is to teach the network a particular function (e.g. the OR-rule). That is, we want it to produce the correct output (e.g. $[1]$) for a given input pattern (e.g. $[0,1]$). Let's assume that we already have a network with some  weights, like the ones from the feedforward pass. We know from the forward pass in the previous section that its output for the input pattern $[0,1]$ isn't very close to what we want ($[0.377...]$ versus $[1]$)."
      ]
    },
    {
      "cell_type": "markdown",
      "metadata": {
        "id": "3fBG335xVtJX"
      },
      "source": [
        "##### **Squared Error**\n",
        "\n",
        "So let's teach the network by providing it with some feedback about how well it did. We will do this by computing the error $E_{y_{j}}$ of output unit $y_{j}$. One way to compute the error is by taking the squared difference between the output of the network and the correct training pattern for a given output unit $y_{j}$:\n",
        "\n",
        "<!-- (<ins>*Note*</ins>*: to avoid death by subscripts, we are abbreviating the output unit $y_{j}$ to just $j$*) -->\n",
        "\n",
        "\\begin{equation}\n",
        "E_{y_j} = \\frac{1}{2}(y_j - t_j)^2\n",
        "\\end{equation}\n",
        "\n",
        "where $t_j$ is the correct training output for unit $y_{j}$. Note that the squared error is scaled by $\\frac{1}{2}$. We do this to make the math work out more nicely below."
      ]
    },
    {
      "cell_type": "code",
      "metadata": {
        "colab": {
          "base_uri": "https://localhost:8080/"
        },
        "id": "KCjLjM-OWKwD",
        "outputId": "fb7d3644-91a4-4f84-86e8-8881e4812753"
      },
      "source": [
        "## Compute the error\n",
        "t_1 = 1\n",
        "error_y_j = 0.5*np.square(y_1 - t_1)\n",
        "print(f'error_y_j = {error_y_j[0][0]}')"
      ],
      "execution_count": null,
      "outputs": [
        {
          "output_type": "stream",
          "name": "stdout",
          "text": [
            "error_y_j = 0.125\n"
          ]
        }
      ]
    },
    {
      "cell_type": "markdown",
      "metadata": {
        "id": "tS6rvx4lExGP"
      },
      "source": [
        "##### <ins>*Thought question*</ins>\n",
        "*Why would we want to square the error?*"
      ]
    },
    {
      "cell_type": "markdown",
      "metadata": {
        "id": "gwrq_xMLE4fM"
      },
      "source": [
        "###### <ins>*Answer*</ins>"
      ]
    },
    {
      "cell_type": "markdown",
      "metadata": {
        "id": "sLZNr2-oFGGa"
      },
      "source": [
        "The squared error has two advantages. First, the error is always positive, irrespective of whether the output of the network is too small ($y_j < t_j$) or too large ($y_j > t_j$). Second, squaring the error penalizes small deviations less [e.g., $(0.9-1)^2=0.1^2=0.01$] compared to larger deviations [e.g., $(0.5-1)^2=0.5^2=0.25$]."
      ]
    },
    {
      "cell_type": "markdown",
      "metadata": {
        "id": "y-l5_OF-XEct"
      },
      "source": [
        "##### **Error as feedback**\n",
        "\n",
        "Now that we know how to calculate the network's error, we can then use the error as a feedback signal to adjust the network's weights.\n",
        "\n",
        "We know that the error is a function of the weights of the network, e.g. a function of $w_{1,1}$. This is beause we can write the output of the network as a function of its weights: $y = \\textrm{logistic}(net_{y}) = \\textrm{logistic}(x^T \\cdot w) = \\textrm{logistic} \\left( \\begin{bmatrix} x_1 & x_2 \\end{bmatrix} \\begin{bmatrix} w_{1,1} \\\\ w_{1,2} \\end{bmatrix} \\right).$\n",
        "\n",
        "Let's assume that this <font color=\"#C00000\">error function of $w_{1,1}$ </font> looks like the solid red line in the following plot:\n",
        "\n",
        "<p align='center'><img src='https://github.com/jmasis/nntutorialmentaleffort2021/blob/326079df67a7bfe602d30d6aee246b64f53b0f39/ErrorSurface.png?raw=True'\n",
        "alt=\"2 Layer Network\" width=600px height=auto/></p>\n",
        "\n",
        "where <font color=\"#000000\"> $w_{1,1}^t$ </font> is the current weight of the network  at time step $t$ (e.g. $-0.5$).\n",
        "\n",
        "Our goal is to minimize the error function."
      ]
    },
    {
      "cell_type": "markdown",
      "metadata": {
        "id": "dllo4-IwFDce"
      },
      "source": [
        "##### **Optimal weights**\n",
        "\n",
        "The value <font color=\"#2F5597\">$w_{1,1}^*$</font> is the <font color=\"#2F5597\">optimal weight</font> of the network because it provides the minimum error.\n",
        "\n",
        "In order to minimize the error we want to change our current weight <font color=\"#000000\"> $w_{1,1}^t$ </font> so that it becomes <font color=\"#2F5597\">$w_{1,1}^*$</font>.\n",
        "\n",
        "What if we computed <font color=\"#2F5597\">$w_{1,1}^*$</font> directly by finding the minimum of the <font color=\"#C00000\">error function</font>? In principle, this is a great solution. However, there are two problems:\n",
        "\n",
        "\n",
        "1.   We don't know the error function, so we cannot compute its minimum directly.\n",
        "2.   The error function is indeed a function of $w_{1,1}$, but it is also a function of $w_{1,2}$. So we need to somehow take into account $w_{1,2}$ when optimizing $w_{1,1}$ and vice versa."
      ]
    },
    {
      "cell_type": "markdown",
      "metadata": {
        "id": "h-LJslaeGeVS"
      },
      "source": [
        "##### **Derivative of the error**\n",
        "\n",
        "We may not know the entire error function, meaning we cannot compute the optimal weight <font color=\"#2F5597\">$w_{1,1}^*$</font> directly, but we do know the small part of the error function around our current weight $w_{1,1}^t$. Knowing the local area means that we can calculate the <font color=\"7030A0\">derivative of the error with respect to $w_{1,1}^t$ given the current weights, i.e. $\\frac{\\partial E_{y_1}^t}{\\partial w_{1,1}^t}$</font>.\n",
        "\n",
        "If you remember from calculus, the derivative of a function at any point in time tells us the slope or rate of change of that function, which can graphically be represented as a line tangent to that point on our function (e.g. <font color=\"7030A0\">the dotted purple line</font>).\n",
        "\n"
      ]
    },
    {
      "cell_type": "markdown",
      "metadata": {
        "id": "h5-YnRE6JHd5"
      },
      "source": [
        "##### <ins>*Thought question*</ins>\n",
        "\n",
        "*Using the derivative $\\frac{\\partial E_{y_1}^t}{\\partial w_{1,1}^t}$ above, should we increase or decrease $w_{1,1}^t$ in order to decrease $E_{y_1}$?*"
      ]
    },
    {
      "cell_type": "markdown",
      "metadata": {
        "id": "mreHJxPMJPZt"
      },
      "source": [
        "###### <ins>*Answer*</ins>"
      ]
    },
    {
      "cell_type": "markdown",
      "metadata": {
        "id": "2QB2XZLoJ58H"
      },
      "source": [
        "The derivative derivative $\\frac{\\partial E_{y_1}^t}{\\partial w_{1,1}^t}$ amounts to the <font color=\"7030A0\">purple slope</font> in the figure which is negative (pointing downward). This means that the error decreases with increases in the weight. Thys, we need to increase $w_{1,1}^t$ in order to decrease the error $E_{y_1}$."
      ]
    },
    {
      "cell_type": "markdown",
      "metadata": {
        "id": "Gxe8F9btJB-7"
      },
      "source": [
        "##### **Using the derivative of the error to adjust the weights**\n",
        "\n",
        "In the example above, the derivative of the error function has a negative slope. This means that in order to minimize the error, we have to increase the weight $w_{1,1}^t$ by some small amount <font color=\"#00B050\">$\\Delta w_{1,1}^t$</font>. That is, our <font color=\"C55A11\">weight for the next time step $w_{1,1}^{t+1}$</font> is computed as\n",
        "\n",
        "\\begin{equation}\n",
        "w_{1,1}^{t+1} = \\underbrace{w_{1,1}^t}_\\text{current weight} + \\underbrace{\\Delta w_{1,1}^t}_\\text{weight change}\n",
        "\\end{equation}\n",
        "\n",
        "where\n",
        "\n",
        "\\begin{equation}\n",
        "\\Delta w_{1,1}^t = - \\underbrace{\\alpha}_\\text{learning rate} \\cdot \\underbrace{\\frac{\\partial E_{y_1}^t}{\\partial w_{1,1}^t}}_\\text{error slope}.\n",
        "\\end{equation}\n",
        "\n",
        "The *learnign rate* $\\alpha$ is a constant that defines the step size of the weight change (how much we want to change weight in the direction of the derivative). The weight change itself is dermined by the error slope, that is, the partial derivative of the error $E_{y_1}^t$ of the output unit $y_1$ with respect to the weight $w_{1,1}^t$ at time step t. The error slope tells us how changes in $w_{1,1}^t$ affect $E_{y_1}^t$. If $\\frac{\\partial E_{y_1}^t}{\\partial w_{1,1}^t}$ is positive, then an increase in $w$ will increase $E_{y_1}^t$. Since we want to *decrease* the error, we add a minus sign in front of the term. This means that we want to change $w_{1,1}^t$ in the direction that *reduces* the error."
      ]
    },
    {
      "cell_type": "markdown",
      "metadata": {
        "id": "OQ4_F5IKpA-_"
      },
      "source": [
        "##### <ins>*Thought question*</ins>\n",
        "\n",
        "*Why would we want to introduce a learning rate $\\alpha$? Would we want $\\alpha$ to be big or small?*"
      ]
    },
    {
      "cell_type": "markdown",
      "metadata": {
        "id": "QVMGUrCipHnP"
      },
      "source": [
        "###### <ins>*Answer*</ins>"
      ]
    },
    {
      "cell_type": "markdown",
      "metadata": {
        "id": "6VIVUmyOpLcc"
      },
      "source": [
        "The learning rate $\\alpha$ allows us to *regulate* the step size with which we can adjust the error. Why do we need to adjust the step size? Well, imagine taking a step in the direction of the derivative in the Figure above. If we make this step too small, we are only moving a tiny amount to reduce the error, so it can take a long time until we reach the minimum. Alternatively, if we make this step too big then we may go too far and skip the minimum (note that the error increases after <font color=\"#2F5597\">$w_{1,1}^*$</font>). Thus, we want to use learning rate that is small enough so we don't skip the minimum, but that is large enough so we can make sufficient progress in one training step."
      ]
    },
    {
      "cell_type": "markdown",
      "metadata": {
        "id": "UTqWoRMYK-wI"
      },
      "source": [
        "##### **Expressing the error as a function of the current weights**\n",
        "\n",
        "If you recall from above, we reasoned that the error is a function of the weights because:\n",
        "\n",
        "1.   The error of unit $y_{j}$,\n",
        "\\begin{equation}\n",
        "E_{y_j} = \\frac{1}{2}(y_j - t_j)^2,  \n",
        "\\end{equation}\n",
        "is a function of the activity of $y_{j}$,\n",
        "\\begin{equation}\n",
        "y_j = \\frac{1}{1+e^{-net_{y_j}}}\n",
        "\\end{equation}\n",
        "therefore,\n",
        "\\begin{equation}\n",
        "E_{y_j} = \\frac{1}{2}\\left(\\frac{1}{1+e^{-net_{y_j}}} - t_j\\right)^2  \n",
        "\\end{equation}\n",
        "\n",
        "2.   The activity of $y_{j}$ is a function of its net activation\n",
        "\\begin{equation}\n",
        "net_{y_j} = \\sum_{i=1}^M x_i w_{j,i}\n",
        "\\end{equation}\n",
        "therefore, we can express the error function as\n",
        "\\begin{equation}\n",
        "E_{y_j} = \\frac{1}{2}\\left(\\frac{1}{1+e^{\\sum_{i=1}^M x_i w_{j,i}}} - t_j\\right)^2  \n",
        "\\end{equation}\n",
        "\n",
        "Now, this equation is a lot to handle, but it shows us how the error function really is a function of the weights, this means that we can now take the derivative of the error function with respect to the weights!\n",
        "\n",
        "Because the full expression of the error function is complex and would be hard to differentiate, we will take advantage of the fact there the error is simply a composition of simpler nested functions (all the ones we mentioned right above!).\n",
        "\n",
        "This nesting looks as follows:\n",
        "\n",
        "\\begin{equation}\n",
        "E_{y_1}^t(w_{1,1}^t) = E_{y_1}(y_1(net_{y_1}(w_{1,1}^t)))\n",
        "\\end{equation}\n",
        "\n",
        "or in words: The error $E_{y_1}$ is a function of the output activation $y_1$ which is a functin of its net input $net_{y_1}$ which is a function of its weight $w_{1,1}^t$ (among other variables)."
      ]
    },
    {
      "cell_type": "markdown",
      "metadata": {
        "id": "YrwfmN56Og8R"
      },
      "source": [
        "##### **Back to high school: Love/hate relationship with something called the chain rule**\n",
        "\n",
        "To differentiate the error with respect to the weights, we will use something called the **chain rule** from calculus. The chain rule tells us that the derivative of a function of functions is equal to the product of the partial derivatives of all of those functions. Let's say we want to compute the partial derivative of the following function $f$ with respect to x:\n",
        "\n",
        "\\begin{equation}\n",
        "f(x) = (2x+y)^2\n",
        "\\end{equation}\n",
        "\n",
        "Note that we can rewrite $f(x)$ as a function of another function $g$:\n",
        "\n",
        "\\begin{equation}\n",
        "f(x) = g(x)^2\n",
        "\\end{equation}\n",
        "\n",
        "where\n",
        "\n",
        "\\begin{equation}\n",
        "g(x) = 5x+y, f(x) = x^2\n",
        "\\end{equation}\n",
        "\n",
        "To compute the partial derivative of $f$ with respect to $x$, i.e. $\\frac{\\partial f}{\\partial x}$, we can apply the chain rule:\n",
        "\n",
        "\\begin{equation}\n",
        "\\frac{\\partial f}{\\partial x} = \\underbrace{\\frac{\\partial f}{\\partial g}}_\\text{derivative 1} \\cdot \\underbrace{\\frac{\\partial g}{\\partial x}}_\\text{derivative 2}\n",
        "\\end{equation}\n",
        "\n",
        "OK, let's decompose this.\n",
        "\n",
        "The first term $\\frac{\\partial f}{\\partial g}$ is the derivative of f with respect to g, amounting to $\\frac{\\partial f}{\\partial g}=2g(x)$.\n",
        "\n",
        "The second term $\\frac{\\partial g}{\\partial x}$ is the derivative of g with respect to x, amounting to $\\frac{\\partial g}{\\partial x}=5$.\n",
        "\n",
        "If we insert the second and the first term into the equation above, we get:\n",
        "\n",
        "\\begin{equation}\n",
        "\\frac{\\partial f}{\\partial x} = 2g(x) \\cdot 5 = 10 (5x+y) = 50x + 10y\n",
        "\\end{equation}\n",
        "\n",
        "That wasn't so difficult. Now, what happens if we include one more nested function, e.g.,\n",
        "\n",
        "\\begin{equation}\n",
        "f(x) = g(h(x))^2?\n",
        "\\end{equation}\n",
        "\n",
        "In this case, we just iteratively apply the chain rule, and work our way from the most outer function to the most inner function:\n",
        "\n",
        "\\begin{equation}\n",
        "\\frac{\\partial f}{\\partial x} = \\underbrace{\\frac{\\partial f}{\\partial g}}_\\text{derivative 1} \\cdot \\underbrace{\\frac{\\partial g}{\\partial h}}_\\text{derivative 2} \\cdot \\underbrace{\\frac{\\partial h}{\\partial x}}_\\text{derivative 3}\n",
        "\\end{equation}"
      ]
    },
    {
      "cell_type": "markdown",
      "metadata": {
        "id": "JM5PtSwm1FmI"
      },
      "source": [
        "##### **Computing the error gradient**\n",
        "\n",
        "Now that we understand the principle of the chain rule, we can apply it to our nested error function from above:\n",
        "\n",
        "\\begin{equation}\n",
        "E_{y_1}^t(w_{1,1}^t) = E_{y_1}(y_1(net_{y_1}(w_{1,1}^t))).\n",
        "\\end{equation}\n",
        "\n",
        "Let's apply the chain rule to compute the error with respect to the weight:\n",
        "\n",
        "\\begin{equation}\n",
        "\\frac{\\partial E_{y_1}^t}{\\partial w_{1,1}^t} = \\underbrace{\\frac{\\partial E_{y_1}^t}{\\partial y_1}}_\\text{derivative 1} \\quad\n",
        "\\underbrace{\\frac{\\partial y_1}{\\partial net_{y_1}}}_\\text{derivative 2} \\quad\n",
        "\\underbrace{\\frac{\\partial net_{y_1}}{\\partial w_{1,1}^t}}_\\text{derivative 3}\n",
        "\\end{equation}\n",
        "\n",
        "The first partial derivative $\\frac{\\partial E_{y_1}^t}{\\partial y_1}$ is easy to compute:\n",
        "\n",
        "\\begin{equation}\n",
        "\\frac{\\partial E_{y_1}^t}{\\partial y_1} =  \\frac{\\partial \\left( \\frac{1}{2} (y_1 - t_1)^2 \\right)}{\\partial y_1} = (y_1 - t_1)\n",
        "\\end{equation}\n",
        "\n",
        "The second partial derivative $\\frac{\\partial y_1}{\\partial net_{y_1}}$ is a bit more complicated since we are dealing with a sigmoidal activation function $y_1 = 1/(1+e^{-net_{y_1}})$. However, it turns out that it's derivate can be simply computed as a function of $y_1$:\n",
        "\n",
        "\\begin{equation}\n",
        "\\frac{\\partial y_1}{\\partial net_{y_1}} = y_1 (1 - y_1)\n",
        "\\end{equation}\n",
        "\n",
        "Finally, we compute the third partial derivative $\\frac{\\partial net_{y_1}}{\\partial w_{1,1}^t}$. Recall that $net_{y_1} = w_{1,1}^t x_1 + w_{1,2}^t x_2$. Thus, $\\frac{\\partial net_{y_1}}{\\partial w_{1,1}^t}$ amounts to\n",
        "\n",
        "\\begin{equation}\n",
        "\\frac{\\partial net_{y_1}}{\\partial w_{1,1}^t} =  x_1\n",
        "\\end{equation}\n",
        "\n",
        "Now let's put all pieces together in order to compute the final weight change for $w_{1,1}$:\n",
        "\n",
        "\\begin{align}\n",
        "\\Delta w_{1,1}^t = - &\\alpha \\cdot \\frac{\\partial E_{y_1}^t}{\\partial w_{1,1}^t} \\\\\n",
        "\\Delta w_{1,1}^t = - &\\alpha \\cdot \\underbrace{(y_1 - t_1)}_{\\frac{\\partial E_{y_1}^t}{\\partial y_1}} \\underbrace{y_1 (1 - y_1)}_{\\frac{\\partial y_1}{\\partial net_{y_1}}} \\underbrace{x_1}_{\\frac{\\partial net_{y_1}}{\\partial w_{1,1}^t}}\n",
        "\\end{align}\n",
        "\n",
        "A similar update rule can be applied for the other weight $w_{1,2}$.\n",
        "\n",
        "\\begin{align}\n",
        "\\Delta w_{1,2}^t = - &\\alpha \\cdot \\frac{\\partial E_{y_1}^t}{\\partial w_{1,2}^t} \\\\\n",
        "\\Delta w_{1,2}^t = - &\\alpha \\cdot (y_1 - t_1) y_1 (1 - y_1) x_2\n",
        "\\end{align}"
      ]
    },
    {
      "cell_type": "markdown",
      "metadata": {
        "id": "eisVBZyZO1tV"
      },
      "source": [
        "##### **Additional remarks: delta rule** ####\n",
        "Note that if we use a linear activation function, e.g. $y_j = m \\cdot net_{y_j} + n$, then the weight change reduces to\n",
        "\n",
        "\\begin{equation}\n",
        "\\Delta w_{j,i}^t = - \\alpha (y_j - t_j) x_i\n",
        "\\end{equation}\n",
        "\n",
        "where the constant $m$ gets absorbed into the learning rate $\\alpha$. This weight update rule is called the **delta rule**. Why is it called delta rule? That's because the weight adjustment is proportional to the difference (delta) between the actual output of the network $y_j$ and the correct output determined by the training pattern $t_j$."
      ]
    },
    {
      "cell_type": "markdown",
      "metadata": {
        "id": "c7yWfDtu-iTk"
      },
      "source": [
        "### Exercise 1.4\n",
        "\n",
        "The function `train2LayerNetwork` initializes a simple 2-layer neural network with 2 input units and 1 output unit (like in the example above). Your task is to fill in the missing code for the computation of its output (forward pass), as well as the missing code for network training (backward pass). The missing code is marked with '`...`'.\n",
        "\n",
        "Once you completed the code, run the simulation below. The simulation will output for each learning epoch (1 forward pass and 1 backward pass on every training pattern) the mean squared error across all training patterns. Try to train the network on the two different training patterns (OR, AND).\n",
        "\n",
        "*Heads-up*: The network may not perform as well as on the AND pattern. Why do you think does the network not learn the AND task as well? You may set the debug variable to true for a more detailed output of the weight adjustments for each pattern."
      ]
    },
    {
      "cell_type": "markdown",
      "metadata": {
        "id": "UfSDqRk-cp7e"
      },
      "source": [
        "#### Define function 'train2LayerNetwork'"
      ]
    },
    {
      "cell_type": "code",
      "metadata": {
        "id": "QA9T7EQe-g_-"
      },
      "source": [
        "def train2LayerNetwork(input_patterns, output_patterns, learning_rate, MSE_threshold, num_epochs, train_bias=False,\n",
        "                       debug=False):\n",
        "    '''\n",
        "    inputs:\n",
        "      input_patterns: array of shape (4, 2)\n",
        "      output_patterns: array of shape (4, 1)\n",
        "      learning_rate: scalar,\n",
        "      MSE_threshold: scalar, the training stops once the MSE is below this value\n",
        "      num_epochs: scalar, maximum number of epochs to train\n",
        "      train_bias: boolean, if True includes terms allowing bias unit in network\n",
        "      debug: boolean, if True includes print statements to debug\n",
        "    output:\n",
        "      MSE_log: array of shape (1, num_epochs) showing change in network error over training\n",
        "    '''\n",
        "    ### network initialization ###\n",
        "\n",
        "    # let's define the number of input and output units as a function of the dimension of the input and output patterns respectively\n",
        "    NInputUnits = input_patterns.shape[1]\n",
        "    NOutputUnits = output_patterns.shape[1]\n",
        "\n",
        "    # let's also keep a running log of the error of the network\n",
        "    MSE_log = np.zeros((1, num_epochs))\n",
        "\n",
        "    # let's initialize the weights between the two layers with small random values, uniformly sampled between 0 and 0.1;\n",
        "    # the weight matrix will have as many (rows, columns) as (units in the input layer, units in the output layer)\n",
        "    w = np.random.uniform(0, 0.1, (NInputUnits, NOutputUnits))\n",
        "    if train_bias:\n",
        "        # we will also randomly initialize the bias weights to the output layer\n",
        "        bias = np.random.uniform(0, 0.1, (1, NOutputUnits))\n",
        "\n",
        "    ### network training ###\n",
        "\n",
        "    # the network will be trained in epochs.\n",
        "    for epoch in range(num_epochs):\n",
        "        # initialize mean squared error log for all patterns\n",
        "        MSE_patterns = np.zeros((output_patterns.shape[0],))\n",
        "\n",
        "        # within each training epoch, we will loop through every training pattern.\n",
        "        for pattern in range(input_patterns.shape[0]):\n",
        "\n",
        "            # FORWARD PASS #\n",
        "\n",
        "            # assign values to input layer\n",
        "            x = np.empty((NInputUnits,NOutputUnits))\n",
        "            x[:,0] = input_patterns[pattern,] # x will be a column vector\n",
        "\n",
        "            # compute net input of output layer using np.dot and x.T\n",
        "            y_net = np.dot(x.T, w)\n",
        "            if train_bias:\n",
        "                y_net = y_net + 1 * bias\n",
        "\n",
        "            # compute activation of output layer using sigmoidal activation function using np.exp\n",
        "            y = 1 / (1 + np.exp(-y_net))\n",
        "\n",
        "            # ERROR BACKPROPAGATION #\n",
        "\n",
        "            # compute the mean squared error of the output with respect to the correct training pattern\n",
        "            t = output_patterns[pattern,]\n",
        "            MSE_patterns[pattern] = 0.5 * (y - t) ** 2\n",
        "\n",
        "            # compute derivative of the error (0.5 * (y - t) ** 2) with respect to the output unit activation\n",
        "            dError_dAct =  (y - t)\n",
        "\n",
        "            # compute derivative of output unit activation with respect to its net input.\n",
        "            # Hint:  the derivative of a logistic function y(x) = 1/(1+exp(-x))\n",
        "            # is dy/dx = y * (1 - y)\n",
        "            dAct_dNet = y * (1 - y)\n",
        "\n",
        "            # compute the derivative of the net input (y_net = x*w) of the output layer with respect to its weights w\n",
        "            # note: the correct derivative should be a column vector\n",
        "            dNet_dw = x\n",
        "\n",
        "            if train_bias:\n",
        "                # compute the derivative of the net input of the output layer with respect to the bias unit\n",
        "                dNet_dBias = 1\n",
        "\n",
        "            # compute weight adjustment using dError_dAct, dAct_dNet and dNet_dw\n",
        "            delta_w = dError_dAct * dAct_dNet * dNet_dw\n",
        "            if train_bias:\n",
        "                delta_bias = dError_dAct * dAct_dNet * dNet_dBias\n",
        "\n",
        "            # adjust weights based on learning rate\n",
        "            w = w - learning_rate * delta_w\n",
        "            if train_bias:\n",
        "                bias = bias - learning_rate * delta_bias\n",
        "\n",
        "            # For debugging\n",
        "            if (debug):\n",
        "                print('----------')\n",
        "                print(f'pattern: {x}')\n",
        "                print(f'weights: {w}')\n",
        "                print(f'output: {y}')\n",
        "                print(f'MSE - output pattern: {MSE_patterns[pattern]} - {output_patterns[pattern,]}')\n",
        "                print(f'dError: {dError_dAct}')\n",
        "                print(f'dAct_dNet: {dAct_dNet}')\n",
        "                print(f'weight adjustment: {- learning_rate * delta_w}')\n",
        "\n",
        "        # log mean squared error for current epoch\n",
        "        MSE_log[0, epoch] = np.sum(MSE_patterns) / MSE_patterns.size\n",
        "\n",
        "        # break if we error threshold is reached\n",
        "        if MSE_log[0, epoch] < MSE_threshold:\n",
        "            break\n",
        "\n",
        "    # plot the error function\n",
        "    plt.plot(MSE_log[0,], \"b-\")\n",
        "    plt.xlim(0, num_epochs)\n",
        "    plt.xlabel('epoch')\n",
        "    plt.ylim(0.04, 0.3)\n",
        "    plt.yticks([0.05, 0.1, 0.15, 0.2, 0.25])\n",
        "    plt.ylabel('MSE')\n",
        "    plt.title('MSE as a function of training epoch')\n",
        "    sns.despine(trim=True)"
      ],
      "execution_count": null,
      "outputs": []
    },
    {
      "cell_type": "markdown",
      "metadata": {
        "id": "981nh-nnASqA"
      },
      "source": [
        "#### Run Simulation\n",
        "\n",
        "We will start with defining critical simulation parameters:\n",
        "- `learning_rate` corresponds to the stepsize for each weight change\n",
        "- `MSE_threshold` defines the mean-squared error at which training is stopped\n",
        "- `max_num_epochs` corresponds to the maximum number of training iterations (in case MSE_threshold is not reached)."
      ]
    },
    {
      "cell_type": "code",
      "metadata": {
        "colab": {
          "base_uri": "https://localhost:8080/",
          "height": 295
        },
        "id": "tVKQv2JbAYdy",
        "outputId": "121e60d0-645f-48ed-d1a6-96398b4a2d7f"
      },
      "source": [
        "# define parameters\n",
        "input = input_patterns\n",
        "output_pattern = output_patterns_XOR # output_patterns_AND # output_patterns_XOR\n",
        "learning_rate = 0.3 # learning rate\n",
        "MSE_threshold = 0.001 # the training stops once the MSE is below this value\n",
        "max_num_epochs = 500 # maximum number of epochs to train\n",
        "train_bias = True # if True includes terms allowing bias unit in network\n",
        "debug = False # set this to True to print relevant variables at each epoch.\n",
        "\n",
        "# run the network\n",
        "train2LayerNetwork(input, output_pattern, learning_rate, MSE_threshold, max_num_epochs, train_bias, debug)"
      ],
      "execution_count": null,
      "outputs": [
        {
          "output_type": "display_data",
          "data": {
            "image/png": "[encoded data removed]",
            "text/plain": [
              "<Figure size 432x288 with 1 Axes>"
            ]
          },
          "metadata": {
            "needs_background": "light"
          }
        }
      ]
    },
    {
      "cell_type": "markdown",
      "metadata": {
        "id": "O38ZZijC4mmH"
      },
      "source": [
        "#### **Solution (Exercises 1.4 and 1.5)**"
      ]
    },
    {
      "cell_type": "code",
      "metadata": {
        "id": "Dawptzgs4pLL"
      },
      "source": [
        "def train2LayerNetwork(input_patterns, output_patterns, learning_rate, MSE_threshold, num_epochs, train_bias=False,\n",
        "                       debug=False):\n",
        "    '''\n",
        "    inputs:\n",
        "      input_patterns: array of shape (4, 2)\n",
        "      output_patterns: array of shape (4, 1)\n",
        "      learning_rate: scalar,\n",
        "      MSE_threshold: scalar, the training stops once the MSE is below this value\n",
        "      num_epochs: scalar, maximum number of epochs to train\n",
        "      train_bias: boolean, if True includes terms allowing bias unit in network\n",
        "      debug: boolean, if True includes print statements to debug\n",
        "    output:\n",
        "      MSE_log: array of shape (1, num_epochs) showing change in network error over training\n",
        "    '''\n",
        "    ### network initialization ###\n",
        "\n",
        "    # let's define the number of input and output units as a function of the dimension of the input and output patterns respectively\n",
        "    NInputUnits = input_patterns.shape[1]\n",
        "    NOutputUnits = output_patterns.shape[1]\n",
        "\n",
        "    # let's also keep a running log of the error of the network\n",
        "    MSE_log = np.zeros((1, num_epochs))\n",
        "\n",
        "    # let's initialize the weights between the two layers with small random values, uniformly sampled between 0 and 0.1;\n",
        "    # the weight matrix will have as many (rows, columns) as (units in the input layer, units in the output layer)\n",
        "    w = np.random.uniform(0, 0.1, (NInputUnits, NOutputUnits))\n",
        "    if train_bias:\n",
        "        # we will also randomly initialize the bias weights to the output layer\n",
        "        bias = np.random.uniform(0, 0.1, (1, NOutputUnits))\n",
        "\n",
        "    ### network training ###\n",
        "\n",
        "    # the network will be trained in epochs.\n",
        "    for epoch in range(num_epochs):\n",
        "\n",
        "        # initialize mean squared error log for all patterns\n",
        "        MSE_patterns = np.zeros((output_patterns.shape[0],))\n",
        "\n",
        "        # within each training epoch, we will loop through every training pattern.\n",
        "        for pattern in range(input_patterns.shape[0]):\n",
        "\n",
        "            # FORWARD PASS #\n",
        "\n",
        "            # assign values to input layer\n",
        "            x = np.empty((2,1))\n",
        "            x[:,0] = input_patterns[pattern,] # x will be a column vector\n",
        "\n",
        "            # compute net input of output layer using np.dot and x.T\n",
        "            y_net = np.dot(x.T, w)\n",
        "            if train_bias:\n",
        "                y_net = y_net + 1 * bias\n",
        "\n",
        "            # compute activation of output layer using sigmoidal activation function\n",
        "            y = 1 / (np.exp(- (y_net)) + 1)\n",
        "\n",
        "            # ERROR BACKPROPAGATION #\n",
        "\n",
        "            # compute the mean squared error of the output with respect to the correct training pattern\n",
        "            t = output_patterns[pattern,]\n",
        "            MSE_patterns[pattern] = (y - t) ** 2\n",
        "\n",
        "            # compute derivative of the error ((y - t) ** 2) with respect to the output unit activation\n",
        "            dError_dAct = (y - t)\n",
        "\n",
        "            # compute derivative of output unit activation with respect to its net input.\n",
        "            # Note that the derivative of a sigmoidal function y(x) = 1/(1+exp(-x))\n",
        "            # is dy/dx = y(x) * (1-y(x))\n",
        "            dAct_dNet = y * (1 - y)\n",
        "\n",
        "            # compute the derivative of the net input of the output layer with respect to its weights\n",
        "            # note: make sure that this derivative is formatted as a column vector\n",
        "            dNet_dw = x\n",
        "\n",
        "            if train_bias:\n",
        "                # compute the derivative of the net input of the output layer with respect to the bias unit\n",
        "                dNet_dBias = 1\n",
        "\n",
        "            # compute weight adjustment using dError_dAct, dAct_dNet and dNet_dw\n",
        "            delta_w = dError_dAct * dAct_dNet * dNet_dw\n",
        "            if train_bias:\n",
        "                delta_bias = dError_dAct * dAct_dNet * dNet_dBias\n",
        "\n",
        "            # For debugging\n",
        "            if (debug):\n",
        "                print('----------')\n",
        "                print(f'pattern: {x}')\n",
        "                print(f'weights: {w}')\n",
        "                print(f'output: {y}')\n",
        "                print(f'MSE - output pattern: {MSE_patterns[pattern]} - {output_patterns[pattern,]}')\n",
        "                print(f'dError: {dError_dAct}')\n",
        "                print(f'dAct_dNet: {dAct_dNet}')\n",
        "                print(f'weight adjustment: {- learning_rate * delta_w}')\n",
        "\n",
        "            # adjust weights based on learning rate\n",
        "            w = w - learning_rate * delta_w\n",
        "            if train_bias:\n",
        "                bias = bias - learning_rate * delta_bias\n",
        "\n",
        "        # log mean squared error for current epoch\n",
        "        MSE_log[0, epoch] = np.sum(MSE_patterns) / MSE_patterns.size\n",
        "\n",
        "        # break if we error threshold is reached\n",
        "        if MSE_log[0, epoch] < MSE_threshold:\n",
        "            break\n",
        "\n",
        "    # plot the error function\n",
        "    plt.plot(MSE_log[0,], \"b-\")\n",
        "    plt.xlim(0, num_epochs)\n",
        "    plt.xlabel('epoch')\n",
        "    plt.ylim(0.04, 0.3)\n",
        "    plt.yticks([0.05, 0.1, 0.15, 0.2, 0.25])\n",
        "    plt.ylabel('MSE')\n",
        "    plt.title('MSE as a function of training epoch')\n",
        "    sns.despine(trim=True)"
      ],
      "execution_count": null,
      "outputs": []
    },
    {
      "cell_type": "markdown",
      "metadata": {
        "id": "0zhYsFx98Z7a"
      },
      "source": [
        "**Answer Exercise 1.4**\n",
        "\n",
        "*   The network fails to learn the AND task because, without a bias unit, it can never produce zero as output, e.g., for the input pattern [0, 0]. This is because, no matter how you set the weights, the net input for the input pattern [0, 0] will always be zero (the weights are multiplied with zero). Thus, the lowest activation that the network can achieve is logistic(0) = 0.5. To correct that, we need to include a trainable offset (bias) in the activation function (see next section)."
      ]
    },
    {
      "cell_type": "markdown",
      "metadata": {
        "id": "dQHtsEj5E0jj"
      },
      "source": [
        "\n",
        "**Answers Exercise 1.5**\n",
        "*   The bias adjustment corresponds to\n",
        "\\begin{equation}\n",
        "\\Delta w_{j,b}^t = - \\underbrace{\\alpha}_\\text{learning rate} \\cdot\\underbrace{\\frac{\\partial E_{y_1}^t}{\\partial w_{j,b}^t}}_\\text{derivative w.r.t. bias}\n",
        "\\end{equation}\n",
        "So \"all\" we need to do is figure out how to compute $\\frac{\\partial E_{y_1}^t}{\\partial w_{j,b}^t}$. Let's use the chain rule, the same way we did it when we computed the weight adjustments:\n",
        "\n",
        "\\begin{equation}\n",
        "\\frac{\\partial E_{y_1}^t}{\\partial w_{j,b}^t} = \\frac{\\partial E_{y_1}^t}{\\partial y_{1}} \\cdot \\frac{\\partial y_{1}}{\\partial net_{y_1}} \\cdot \\frac{\\partial net_{y_1}}{\\partial w_{j,b}^t}\n",
        "\\end{equation}\n",
        "\n",
        "We know the first two terms from our calculations above:\n",
        "\n",
        "\\begin{equation}\n",
        "\\frac{\\partial E_{y_1}^t}{\\partial y_{1}} = (y_1 - t_1)\n",
        "\\end{equation}\n",
        "\\begin{equation}\n",
        "\\frac{\\partial y_{1}}{\\partial net_{y_1}} = y_1 (1 - y_1)\n",
        "\\end{equation}\n",
        "\n",
        "Now, all that's left is the derrivative of the net input with respect to the bias, $\\frac{\\partial net_{y_1}}{\\partial w_{j,b}^t}$. So let's take a look at the net input:\n",
        "\n",
        "\\begin{equation}\n",
        "net_{y_1} = w_{1,1} x_1 + w_{1,2} x_2 + \\underbrace{b_{y_j} w_{j,b}^t}_\\text{bias term}\n",
        "\\end{equation}\n",
        "\n",
        "Below, we discuss that we treat the bias unit as an input unit that is always set to 1 (it's always turned on), so the equation simplifies to\n",
        "\n",
        "\\begin{equation}\n",
        "net_{y_1} = w_{1,1} x_1 + w_{1,2} x_2 + 1 \\cdot w_{j,b}^t\n",
        "\\end{equation}\n",
        "\n",
        "This means that $\\frac{\\partial net_{y_1}}{\\partial w_{j,b}^t} = 1$. Now we can compute the entire gradient above:\n",
        "\n",
        "\n",
        "\\begin{aligned}\n",
        "\\frac{\\partial E_{y_1}^t}{\\partial w_{j,b}^t} &= \\frac{\\partial E_{y_1}^t}{\\partial y_{1}} \\cdot \\frac{\\partial y_{1}}{\\partial net_{y_1}} \\cdot \\frac{\\partial net_{y_1}}{\\partial w_{j,b}^t} \\\\\n",
        "\\frac{\\partial E_{y_1}^t}{\\partial w_{j,b}^t} &= (y_1 - t_1) \\cdot y_1 (1 - y_1) \\cdot 1\n",
        "\\end{aligned}\n",
        "\n",
        "This results in the following weight adjustment:\n",
        "\n",
        "\\begin{aligned}\n",
        "\\Delta w_{j,b}^t &= - \\alpha \\cdot \\frac{\\partial E_{y_1}^t}{\\partial w_{j,b}^t} \\\\\n",
        "\\Delta w_{j,b}^t &= - \\alpha \\cdot  (y_1 - t_1) \\cdot y_1 (1 - y_1) \\cdot 1\n",
        "\\end{aligned}\n",
        "\n",
        "*   Implementing a trainable bias should improve the network's performance on the AND, as well as the OR rule. However, it should still not be able to learn the XOR rule.\n",
        "\n",
        "*   Learning the XOR rule requires a non-linear transformation of the input patterns, before the output layer. To accomplish this, we can include a non-linear \"hidden layer\" between the input and output layers of the network. This hidden layer will help the network learn a non-linear transformation of the input patterns, required to perform the XOR rule.\n",
        "\n"
      ]
    },
    {
      "cell_type": "markdown",
      "metadata": {
        "id": "Snpl1GbGUNzt"
      },
      "source": [
        "### The Role of Bias Units"
      ]
    },
    {
      "cell_type": "markdown",
      "metadata": {
        "id": "y63vAyW6RmnK"
      },
      "source": [
        "\n",
        "\n",
        "All three boolean functions (AND, OR, XOR) have something in common: They require to map the inputs $[0,0]$ to the output $[0]$. Can our neural network actually learn this mapping? Let's compute the network's output in response to the input pattern $x_1=0, x_2=0$ for any given weights $w_{1,1}, w_{1,2}$:\n",
        "\n",
        "$net_{y_1} = w_{1,1} x_1 + w_{1,2} x_2 = 0$\n",
        "\n",
        "$y_1 = \\frac{1}{1+e^{(-net_{y_1})}} = \\frac{1}{1+e^{(-0)}} = 0.5$.\n",
        "\n",
        "It turns out that, no matter how we set the weights $w_{1,1}, w_{1,2}$, the network's output will always be 0.5 for the input pattern [0, 0]. This is because the inputs $x_1=0, x_2=0$ lead to $net_{y_1} = 0$, which in turn yields an activation of $y_1 = 0.5$ due to the sigmoidal activation function:\n",
        "\n",
        "<p align='center'><img src='https://github.com/jmasis/nntutorialmentaleffort2021/blob/a47c4f5fc7eae409c60a63b317a5cce7f92948d6/2LSigmoid.png?raw=True'\n",
        "alt=\"2 Layer Network\" width=400px height=auto/></p>\n",
        "\n",
        "What if we could shift the sigmoidal activation function to the right? Then a net input of 0 would yield an activation close to 0.\n",
        "\n",
        "<p align='center'><img src='https://github.com/jmasis/nntutorialmentaleffort2021/blob/326079df67a7bfe602d30d6aee246b64f53b0f39/BiasEffect.png?raw=True'\n",
        "alt=\"Effect of bias on sigmoidal activation function\" width=400px height=auto/></p>\n",
        "\n",
        "Shifting the sigmoidal activation function corresponds to adding a negative bias term to the net input, e.g.,\n",
        "\n",
        "\\begin{equation}\n",
        "net_{y_1} = w_{1,1} x_1 + w_{1,2} x_2 + \\underbrace{-4}_\\text{bias term}\n",
        "\\end{equation}\n",
        "\n",
        "If we substitute in this new definition for $net_{y_1}$, our new output value is\n",
        "\n",
        "\\begin{equation}\n",
        "y_1 = \\frac{1}{1+e^{(-(w_{1,1} x_1 + w_{1,2} x_2 - 4))}} = \\frac{1}{1+e^{(4)}} = 0.0180\n",
        "\\end{equation}\n",
        "\n",
        "Since the sigmmoidal activation function is bounded between 0 and 1, its activation will never be exactly 0 or 1. However, we can get it as close to 0 as possible in order to minimize the error."
      ]
    },
    {
      "cell_type": "markdown",
      "metadata": {
        "id": "wMT7uGEET_gm"
      },
      "source": [
        "#### Learning the bias term"
      ]
    },
    {
      "cell_type": "markdown",
      "metadata": {
        "id": "9JBDR1qlUXB4"
      },
      "source": [
        "What if we could teach the network to find the right bias to the output unit $y_j$? As shown above, the bias is just an additional term in the net input of a unit. We can therefore treat it as a separate input unit with value $b_{y_j}$ with a weight $w_{j}$ that projects to the output unit $y_j$:\n",
        "\n",
        "<p align='center'><img src='https://github.com/jmasis/nntutorialmentaleffort2021/blob/326079df67a7bfe602d30d6aee246b64f53b0f39/2LNetworkBias.png?raw=True'\n",
        "alt=\"2-layer network with bias unit\" width=600px height=auto/></p>\n",
        "\n",
        "The net input of $y_j$ then amounts to\n",
        "\n",
        "\\begin{equation}\n",
        "net_{y_1} = w_{1,1} x_1 + w_{1,2} x_2 + \\underbrace{b_{y_j} w_{j}}_\\text{bias term}\n",
        "\\end{equation}\n",
        "\n",
        "Now that we have expressed the bias term as another unit with a projection weight to $y_j$, we scan imply set the bias input unit $b_{y_j} = 1$ for every input pattern and let the network learn its weight $w_{j,b}$ in order to find the optimal bias of the network:\n",
        "\n",
        "\\begin{equation}\n",
        "w_{j,b}^{t+1} = \\underbrace{w_{j,b}^t}_\\text{current weight} + \\underbrace{\\Delta w_{j,b}^t}_\\text{weight change}\n",
        "\\end{equation}\n",
        "\n",
        "where\n",
        "\n",
        "\\begin{equation}\n",
        "\\Delta w_{j,b}^t = - \\underbrace{\\alpha}_\\text{learning rate} \\cdot\\underbrace{\\frac{\\partial E_{y_1}^t}{\\partial w_{j,b}^t}}_\\text{derivative w.r.t. bias}\n",
        "\\end{equation}\n",
        "\n",
        "For simplicity in Exercise 1.5 below, refer to $w_{j,b}^t$ as $\\verb|bias|$ and to $\\Delta w_{j,b}^t$ as $\\verb|delta_bias|$ in the code. Note that any unit (except input units) in the network can have a bias unit. In fact, it is usually the case that every unit of a layer in a network (except input layers) have their own bias units.\n",
        "\n"
      ]
    },
    {
      "cell_type": "markdown",
      "metadata": {
        "id": "xUHS1NOKV92C"
      },
      "source": [
        "### Exercise 1.5\n",
        "\n",
        "\n",
        "\n",
        "1.   With a pen and paper, use the chain rule in order to figure out how to compute the partial derivative of the error with respect to the bias.\n",
        "2.   Modify `train2LayerNetwork` to implement a bias unit on the output unit, as well as a mechanism for learning the weight of that bias unit. Once you have modified the code, run the function with `bias = True`.\n",
        "3.   Check whether implementing a bias unit improves learning on the AND & OR rule compared to having no bias.\n",
        "4.   Test the network's ability to learn the XOR rule. Why does it still have trouble learning the rule? How could we modify the network even further in order to make it learn the XOR rule?\n",
        "\n",
        "\n",
        "\n",
        "\n",
        "\n"
      ]
    },
    {
      "cell_type": "markdown",
      "metadata": {
        "id": "7NvMcjEkHhND"
      },
      "source": [
        "### The XOR Problem\n",
        "\n",
        "Why can the network not learn the XOR rule? To gain an intuition for this problem, you can think of our 2-layer neural network as a \"linear separator\", that classifies the inputs into 0 (red circle) or 1 (blue star), by linearly separating these patterns (formally, this corresponds to the dot product operation when computing the net input of our output unit). This works well for the AND and OR problem, but not so well for the XOR problem.\n",
        "\n",
        "<p align='center'><img src='https://raw.githubusercontent.com/jmasis/nntutorialmentaleffort2021/main/xor_problem.png'\n",
        "alt=\"2-layer network with bias unit\" width=600px height=auto/></p>\n",
        "\n",
        "We may apply a non-linear activation function to the output of our network, but it doesn't help us \"warp\" the input space in a non-linear manner. To do so, we need another, non-linear intermediate/hidden layer that can help us learn a non-linear transformation of the input space.\n",
        "\n",
        "\n",
        "<p align='center'><img src='https://raw.githubusercontent.com/jmasis/nntutorialmentaleffort2021/main/xor_solution2.png'\n",
        "alt=\"2-layer network with bias unit\" width=200px height=auto/></p>\n",
        "\n",
        "*Fun fact*: Back in the day, when researchers did not know how to train multi-layer non-linear networks, Minsky & Papert published a book called \"Perceptrons\". The authors showed through a set of analyses that simple, two-layer networks (or multi-layer linear networks) were unable to learn the XOR problem. This led to a pessimistic view on the capability of neural networks, and led researchers to focus on other approaches to AI, in particular symbolic systems."
      ]
    },
    {
      "cell_type": "markdown",
      "metadata": {
        "id": "KRE5s7bYXOpV"
      },
      "source": [
        "## Overcoming the AI Winter: Three-Layer Neural Network & Backpropagation"
      ]
    },
    {
      "cell_type": "markdown",
      "metadata": {
        "id": "RLI9-pfNXX0F"
      },
      "source": [
        "Now we will apply what we learned to a proper *deep neural network* (anything with more than 2 layers is technically a deep net! :)\n",
        "\n",
        "Recall that earlier we learned that all the steps we applied both in the forward and backward passes could be applied formulaically to any number of layers, not just 2.\n",
        "\n",
        "As such, take a deep breath, because you already know everything you need to know in order to implement a three-layer neural network."
      ]
    },
    {
      "cell_type": "markdown",
      "metadata": {
        "id": "Z8AYp4UjYWga"
      },
      "source": [
        "### Defining a three-layer network\n",
        "\n",
        "There are many ways we could define a three-layer network. In our case, we are going to keep our input and output layers the same, and just add a layer in between them that we will call a **hidden layer**."
      ]
    },
    {
      "cell_type": "markdown",
      "metadata": {
        "id": "Ji2hlyJcY9Z1"
      },
      "source": [
        "#### Hidden layer, what's that?\n",
        "\n",
        "A hidden layer is just a fancy term for a layer that is technically not visible to us, meaning it is neither the input (which we know), or the output (which we measure).\n",
        "\n",
        "We can probe into the network to see what the values of the hidden layer(s) are, but they might be hard to understand. In fact, as networks get bigger and more complex, they become *very* difficult to understand, which is why studying deep neural networks is such an active area of research!"
      ]
    },
    {
      "cell_type": "markdown",
      "metadata": {
        "id": "evUhKIS0Zvcf"
      },
      "source": [
        "#### Network architecture\n",
        "\n",
        "Our network takes in 2 input units, spits out 1 output unit, and will have 3 **hidden units**. We will also add bias terms for the hidden layer and the output layer (as before).  \n",
        "\n",
        "<p align='center'><img src='https://raw.githubusercontent.com/jmasis/nntutorialmentaleffort2021/main/3_layer_network.png'\n",
        "alt=\"3-layer network with bias units\" width=500px height=auto/></p>\n",
        "\n",
        "\n"
      ]
    },
    {
      "cell_type": "markdown",
      "metadata": {
        "id": "cEDZnetDaMgW"
      },
      "source": [
        "#### Defining the network mathematically\n",
        "\n",
        "*(<ins>Note</ins>: we will use linear algebra notation to define this 3-layer network because otherwise there would be too many equations. If you are not familiar with notation like this, do not worry! Ignore things like the uppercase$^T$ (\"transpose\"), and think of everything just as multiplication and addition, which it is. However, note that, in algebra notation, order matters. This means, e.g., that $Wx$ does not equal $xW$ (keep this in mind for Exercise 2.1).*\n",
        "\n",
        "##### **Connecting the input layer to the hidden layer**\n",
        "\n",
        "As before, our network takes in some input activity (2 binary values), which we will define as a vector $\\bf{x}$ of size (2 x 1).\n",
        "\n",
        "The vector $\\mathbf{x}$ will now be connected to the 3-unit hidden layer, defined by a vector $\\mathbf{h}$ of size (3 x 1).\n",
        "\n",
        "The connection between the vectors $\\mathbf{x}$ and $\\mathbf{h}$ will be a weight matrix $\\mathbf{W}_{h,x}$ of size (3 x 2). That is, the weight matrix $\\mathbf{W}_{h,x}$ has 3 rows corresponding to the 3 hidden units and 2 columns corresponding to the two output units.\n",
        "\n",
        "In addition, we will add a bias term (which we set to 1) to each hidden unit, weighted by a weight matrix $\\mathbf{W}_{h,bias}$ of size (3 x 1).\n",
        "\n",
        "We can now define the net input to the hidden layer $\\mathbf{net}_{h}$ of size (3x1),\n",
        "\n",
        "\\begin{equation}\n",
        "\\mathbf{net}_{h} = \\mathbf{W}_{h,x} \\mathbf{x} + 1\\cdot\\mathbf{W}_{h,bias}\n",
        "\\end{equation}\n",
        "\n",
        "Here's an example of how we can express the weights projecting from the input layer to the hidden layer in the form of a matrix:\n",
        "\n",
        "<p align='center'><img src='https://raw.githubusercontent.com/jmasis/nntutorialmentaleffort2021/main/example_weight_matrix.png'\n",
        "alt=\"3-layer network with bias units\" width=400px height=auto/></p>\n",
        "\n",
        "In this case, $\\mathbf{W}_{h,x} = \\begin{bmatrix} 0.1 & 0.4 \\\\ 0.2 & 0.5 \\\\ 0.3 & 0.6 \\end{bmatrix}$ and $\\mathbf{W}_{h,bias} = \\begin{bmatrix} -1 \\\\ -2 \\\\ -3 \\end{bmatrix}$. Let's assume the input pattern $\\mathbf{x} = \\begin{bmatrix} 1 \\\\ 1 \\end{bmatrix}$. We can compute the net input of the hidden layer as follows:\n",
        "\n",
        "\\begin{align}\n",
        "\\mathbf{net}_{h} &= \\begin{bmatrix} 0.1 & 0.4 \\\\ 0.2 & 0.5 \\\\ 0.3 & 0.6 \\end{bmatrix} \\begin{bmatrix} 1 \\\\ 1 \\end{bmatrix} + 1\\cdot \\begin{bmatrix} -1 \\\\ -2 \\\\ -3 \\end{bmatrix}\\\\\n",
        "\\mathbf{net}_{h} &= \\begin{bmatrix} 0.5 \\\\ 0.7 \\\\ 0.9 \\end{bmatrix} + \\begin{bmatrix} -1 \\\\ -2 \\\\ -3 \\end{bmatrix}\\\\\n",
        "\\mathbf{net}_{h} &= \\begin{bmatrix} -0.5 \\\\ -1.3 \\\\ -2.1 \\end{bmatrix}\n",
        "\\end{align}\n",
        "\n",
        "Our hidden layer will also have a logistic activation function, so its activation $\\mathbf{h}$ of size (3 x 1) is\n",
        "\n",
        "\\begin{equation}\n",
        "\\mathbf{h} = \\frac{1}{1 + e^{-\\mathbf{net}_{h}}} \\approx \\begin{bmatrix} 0 \\\\ 0 \\\\ 0.1 \\end{bmatrix}\n",
        "\\end{equation}\n",
        "\n",
        "##### **Connecting the hidden layer to the output layer**\n",
        "\n",
        "Now, our output layer will be connected to our hidden layer in the same fashion as it was connected to the input layer in the 2-layer network.\n",
        "\n",
        "Our output layer is a 1-unit vector $\\mathbf{y}$ of size (1 x 1) (so just a number), connected to the hidden layer $\\mathbf{h}$ of size (3 x 1), by a weight matrix $\\mathbf{W}_{y,h}$ of size (1 x 3).\n",
        "\n",
        "In addition, we will add a bias term (which we set to 1) to the output unit, weighted by a weight matrix $\\mathbf{W}_{y,bias}$ of size (1 x 1) (so just a number too).\n",
        "\n",
        "We can now define the net input to the output layer $\\mathbf{net}_{y}$ of size (1x1),\n",
        "\n",
        "\\begin{equation}\n",
        "\\mathbf{net}_{y} = \\mathbf{W}_{y,h} \\mathbf{h} + 1\\cdot\\mathbf{W}_{y,bias}\n",
        "\\end{equation}\n",
        "\n",
        "Again, let's consider the following example weights projecting from the hidden to the output layer:\n",
        "\n",
        "<p align='center'><img src='https://raw.githubusercontent.com/jmasis/nntutorialmentaleffort2021/main/example_hidden_output.png'\n",
        "alt=\"3-layer network with bias units\" width=400px height=auto/></p>\n",
        "\n",
        "\n",
        "with $\\mathbf{W}_{y,h} = \\begin{bmatrix} 0.1  & 0.2  & 0.3 \\end{bmatrix}$ and $\\mathbf{W}_{y,bias} = \\begin{bmatrix} 4 \\end{bmatrix}$. With this setup, the net input of the output unit amounts to\n",
        "\n",
        "\\begin{equation}\n",
        "\\mathbf{net}_{y} = \\begin{bmatrix} 0.1  & 0.2  & 0.3 \\end{bmatrix} \\begin{bmatrix} 0 \\\\ 0 \\\\ 0.1 \\end{bmatrix} + \\begin{bmatrix} 4 \\end{bmatrix} = \\begin{bmatrix} 4.3 \\end{bmatrix}\n",
        "\\end{equation}\n",
        "\n",
        "And like before, we have a sigmoid activation function, so its activation $\\mathbf{y}$ of size (1 x 1) is\n",
        "\n",
        "\\begin{equation}\n",
        "\\mathbf{y} = \\frac{1}{1 + e^{-\\mathbf{net}_{y}}} = 0.9866\n",
        "\\end{equation}\n",
        "\n",
        "##### **Remarks**\n",
        "\n",
        "As you may see, adding a third layer was just repeating what we already learned in the 2-layer example. As networks get larger and fancier, we can change the activation functions and bias terms used for every layer, and how connected they are through the weight matrices.\n",
        "\n",
        "*You now have the building blocks to understand the principles behind most neural networks!*\n",
        "\n",
        "You may have heard of fancy names applied to some neural networks, but you should be able to understand more or less how they work now based on this workshop. In the case of \"recurrent neural networks,\" we just connect layers back to each other. For example, imagine that there were two hidden layers and the activity of the second one fed back into the first one in a loop. In the case of \"convolutional neural networks,\" we just apply a special mathematical function called a convolution (think: averaging with a sliding window) to connect a big layer with a much smaller layer. For example, imagine that the input layer was not just 2 numbers, but rather an image, so a matrix of 256 x 256 numbers. We could connect it to the much smaller hidden layer via a convolution.\n"
      ]
    },
    {
      "cell_type": "markdown",
      "metadata": {
        "id": "8j_88YqI5yx5"
      },
      "source": [
        "#### Backpropagation in 3-layer network"
      ]
    },
    {
      "cell_type": "markdown",
      "metadata": {
        "id": "eqLNo59S5_7Q"
      },
      "source": [
        "##### **Determining which weights to learn**"
      ]
    },
    {
      "cell_type": "markdown",
      "metadata": {
        "id": "MTFEzcEZgeWI"
      },
      "source": [
        "Backpropagating over the 3-layer network follows the same rules we followed for the 2-layer network, we just have more weights to learn now.\n",
        "\n",
        "Specifically, we would like to learn four sets of weights,\n",
        "\n",
        "\n",
        "1.   $\\mathbf{W}_{h,x}$ : the weights between the input and hidden layers\n",
        "2.   $\\mathbf{W}_{h,bias}$ : the weights between the hidden layer bias and hidden layer\n",
        "3.   $\\mathbf{W}_{y,h}$ : the weights between the output and hidden layers\n",
        "4.   $\\mathbf{W}_{y, bias}$: the weight between the output layer bias and the output layer\n",
        "\n",
        "To do this, we will do as before, and take the derivative of the error function **with respect to each of those weights**. As such, we have four derivatives we need to calculate,\n",
        "\n",
        "\n",
        "\\begin{equation}\n",
        "\\frac{\\partial E_{\\mathbf{y}}^t}{\\partial \\mathbf{W}_{h,x}^t},\n",
        "\\frac{\\partial E_{\\mathbf{y}}^t}{\\partial \\mathbf{W}_{h,bias}^t},\n",
        "\\frac{\\partial E_{\\mathbf{y}}^t}{\\partial \\mathbf{W}_{y,h}^t},\n",
        "\\frac{\\partial E_{\\mathbf{y}}^t}{\\partial \\mathbf{W}_{y,bias}^t}\n",
        "\\end{equation}\n",
        "\n"
      ]
    },
    {
      "cell_type": "markdown",
      "metadata": {
        "id": "vmf63I_Z6EW1"
      },
      "source": [
        "##### **Chain rule, we meet again**"
      ]
    },
    {
      "cell_type": "markdown",
      "metadata": {
        "id": "mRkpdHta5klm"
      },
      "source": [
        "The next step is to use the chain rule on each of these to calculate the derivative. We can do this by following the functions back to each of the weights, as we did before.\n",
        "\n",
        "Let's begin with derivative of the error function with respect to the weights of the input to the hidden layer, $\\frac{\\partial E_{\\mathbf{y}}^t}{\\partial \\mathbf{W}_{h,x}^t}$. We have five nested functions connecting the error function to these weights:\n",
        "\n",
        "\\begin{eqnarray}\n",
        "E_{\\mathbf{y}} &=& \\frac{1}{2}(\\mathbf{y} - \\mathbf{t})^2 \\\\\n",
        "\\mathbf{y} &=& \\frac{1}{1 + e^{-\\mathbf{net}_{y}}}\\\\\n",
        "\\mathbf{net}_{y} &=& \\mathbf{W}_{y,h} \\mathbf{h} + 1\\cdot\\mathbf{W}_{y,bias}\\\\\n",
        "\\mathbf{h} &=& \\frac{1}{1 + e^{-\\mathbf{net}_{h}}}\\\\\n",
        "\\mathbf{net}_{h} &=& \\mathbf{W}_{h,x} \\mathbf{x} + 1\\cdot\\mathbf{W}_{h,bias}\n",
        "\\end{eqnarray}\n",
        "\n",
        "We should therefore have five partial derivatives when we apply the chain rule,\n",
        "\n",
        "\\begin{equation}\n",
        "\\frac{\\partial E_{\\mathbf{y}}^t}{\\partial \\mathbf{W}_{h,x}^t} =\n",
        "\\frac{\\partial E_{\\mathbf{y}}^t}{\\partial \\mathbf{y}}\n",
        "\\frac{\\partial \\mathbf{y}}{\\partial \\mathbf{net}_{y}}\n",
        "\\frac{\\partial \\mathbf{net}_{y}}{\\partial \\mathbf{h}}\n",
        "\\frac{\\partial \\mathbf{h}}{\\partial \\mathbf{net}_{h}}\n",
        "\\frac{\\partial \\mathbf{net}_{h}}{\\partial \\mathbf{W}_{h,x}^t}\n",
        "\\end{equation}\n",
        "\n",
        "For the derivative with respect to the bias weights of the hidden layer, $\\frac{\\partial E_{\\mathbf{y}}^t}{\\partial \\mathbf{W}_{h,bias}^t}$, we have the same nested functions as above, but we just need to change the last term,\n",
        "\n",
        "\\begin{equation}\n",
        "\\frac{\\partial E_{\\mathbf{y}}^t}{\\partial \\mathbf{W}_{h,bias}^t} =\n",
        "\\frac{\\partial E_{\\mathbf{y}}^t}{\\partial \\mathbf{y}}\n",
        "\\frac{\\partial \\mathbf{y}}{\\partial \\mathbf{net}_{y}}\n",
        "\\frac{\\partial \\mathbf{net}_{y}}{\\partial \\mathbf{h}}\n",
        "\\frac{\\partial \\mathbf{h}}{\\partial \\mathbf{net}_{h}}\n",
        "\\frac{\\partial \\mathbf{net}_{h}}{\\partial \\mathbf{W}_{h,bias}^t}\n",
        "\\end{equation}\n",
        "\n",
        "For the derivative of the weights connecting the hidden layer and output layer, we just need to apply the chain rule to the first three equations, instead of all five,\n",
        "\n",
        "\\begin{equation}\n",
        "\\frac{\\partial E_{\\mathbf{y}}^t}{\\partial \\mathbf{W}_{y,h}^t} =\n",
        "\\frac{\\partial E_{\\mathbf{y}}^t}{\\partial \\mathbf{y}}\n",
        "\\frac{\\partial \\mathbf{y}}{\\partial \\mathbf{net}_{y}}\n",
        "\\frac{\\partial \\mathbf{net}_{y}}{\\partial \\mathbf{W}_{y,h}^t}\n",
        "\\end{equation}\n",
        "\n",
        "And similarly for the bias on the output layer,\n",
        "\n",
        "\\begin{equation}\n",
        "\\frac{\\partial E_{\\mathbf{y}}^t}{\\partial \\mathbf{W}_{y,bias}^t} =\n",
        "\\frac{\\partial E_{\\mathbf{y}}^t}{\\partial \\mathbf{y}}\n",
        "\\frac{\\partial \\mathbf{y}}{\\partial \\mathbf{net}_{y}}\n",
        "\\frac{\\partial \\mathbf{net}_{y}}{\\partial \\mathbf{W}_{y,bias}^t}\n",
        "\\end{equation}\n",
        "\n",
        "Phew! From here on out, we just need to calculate each of the derivatives separately. Notice that the first two partial derivatives are the same for all four expressions, they are:\n",
        "\n",
        "<!-- Verbose:\n",
        "\n",
        "\\begin{equation}\n",
        "\\frac{\\partial E_{\\mathbf{y}}^t}{\\partial \\mathbf{y}} =  \n",
        "\\frac{\\partial}{\\partial \\mathbf{y}} 0.5(\\mathbf{y} - \\mathbf{t})^2 = (\\mathbf{y} - \\mathbf{t})\n",
        "\\end{equation}\n",
        "\n",
        "\\begin{equation}\n",
        "\\frac{\\partial \\mathbf{y}}{\\partial \\mathbf{net}_{y}} = \\frac{\\partial}{\\partial \\mathbf{net}_{y}} \\frac{1}{1 + e^{-\\mathbf{net}_{y}}} = \\mathbf{y}(1 - \\mathbf{y})\n",
        "\\end{equation} -->\n",
        "\n",
        "\\begin{equation}\n",
        "\\frac{\\partial E_{\\mathbf{y}}^t}{\\partial \\mathbf{y}} = (\\mathbf{y} - \\mathbf{t})\n",
        "\\end{equation}\n",
        "\n",
        "\\begin{equation}\n",
        "\\frac{\\partial \\mathbf{y}}{\\partial \\mathbf{net}_{y}} = \\mathbf{y}(1 - \\mathbf{y})\n",
        "\\end{equation}\n",
        "\n",
        "The rest of the partial derivatives we need are:\n",
        "\n",
        "\\begin{eqnarray}\n",
        "\\frac{\\partial \\mathbf{net}_{y}}{\\partial \\mathbf{h}} &=& \\mathbf{W}_{y,h}^T \\\\\n",
        "\\frac{\\partial \\mathbf{h}}{\\partial \\mathbf{net}_{h}} &=& \\mathbf{h}(1 - \\mathbf{h}) \\\\\n",
        "\\frac{\\partial \\mathbf{net}_{h}}{\\partial \\mathbf{W}_{h,x}^t} &=& \\mathbf{x^T} \\\\\n",
        "\\frac{\\partial \\mathbf{net}_{y}}{\\partial \\mathbf{W}_{y,h}^t} &=& \\mathbf{h^T} \\\\\n",
        "\\frac{\\partial \\mathbf{net}_{h}}{\\partial \\mathbf{W}_{h,bias}^t} &=& 1 \\\\\n",
        "\\frac{\\partial \\mathbf{net}_{y}}{\\partial \\mathbf{W}_{y,bias}^t} &=& 1 \\\\\n",
        "\\end{eqnarray}"
      ]
    },
    {
      "cell_type": "markdown",
      "metadata": {
        "id": "FGg_DeHP5rSr"
      },
      "source": [
        "##### **Updating the weights**"
      ]
    },
    {
      "cell_type": "markdown",
      "metadata": {
        "id": "n1mok3GS6Jr1"
      },
      "source": [
        "Recall from earlier, that we update the weights by adding a small change,\n",
        "\n",
        "\\begin{equation}\n",
        "\\mathbf{W}^{t+1} = \\underbrace{\\mathbf{W}^t}_\\text{current weight} + \\underbrace{\\Delta \\mathbf{W}^t}_\\text{weight change}\n",
        "\\end{equation}\n",
        "\n",
        "where that small change is the learning rate $\\alpha$ times the partial derivative of the error with respect to those weights,\n",
        "\n",
        "\\begin{equation}\n",
        "\\Delta \\mathbf{W}^t = - \\underbrace{\\alpha}_\\text{learning rate} \\cdot\\underbrace{\\frac{\\partial E_{\\mathbf{y}}^t}{\\partial \\mathbf{W}^t}}_\\text{derivative w.r.t. some weights}\n",
        "\\end{equation}\n",
        "\n",
        "We can put all the pieces together in order to compute the weight changes for all four sets of weights,\n",
        "\n",
        "\\begin{equation}\n",
        "\\Delta \\mathbf{W}_{h,x}^t = - \\alpha (\\mathbf{y} - \\mathbf{t}) \\mathbf{y} (1 - \\mathbf{y}) \\mathbf{W}_{y,h}^T \\mathbf{h} (1 - \\mathbf{h})\\mathbf{x^T}\n",
        "\\end{equation}\n",
        "\n",
        "\\begin{equation}\n",
        "\\Delta \\mathbf{W}_{h,bias}^t = - \\alpha (\\mathbf{y} - \\mathbf{t}) \\mathbf{y} (1 - \\mathbf{y}) \\mathbf{W}_{y,h}^T \\mathbf{h} (1 - \\mathbf{h})\n",
        "\\end{equation}\n",
        "\n",
        "\\begin{equation}\n",
        "\\Delta \\mathbf{W}_{y,h}^t = - \\alpha (\\mathbf{y} - \\mathbf{t}) \\mathbf{y} (1 - \\mathbf{y}) \\mathbf{h^T}\n",
        "\\end{equation}\n",
        "\n",
        "\\begin{equation}\n",
        "\\Delta \\mathbf{W}_{y,bias}^t = - \\alpha (\\mathbf{y} - \\mathbf{t}) \\mathbf{y} (1 - \\mathbf{y})\n",
        "\\end{equation}\n",
        "\n",
        "*We did it!* Now we can write a function to simulate the 3-layer network."
      ]
    },
    {
      "cell_type": "markdown",
      "metadata": {
        "id": "2BMmoiRuc9bp"
      },
      "source": [
        "### Exercise 2.1\n",
        "\n",
        "The function `train3LayerNetwork` initializes a 3-layer neural network with 2 input units and 1 output unit (like in the example above). Your task is to fill in the missing code for the computation of its output (forward pass), as well as the missing code for network training (backward pass). The missing code is marked with '`...`'.\n",
        "\n",
        "Once you completed the code, run the simulation below. The simulation will output for each learning epoch (1 forward pass and 1 backward pass on every training pattern) the mean squared error across all training patterns. If your implementation is correct, then the network should be able to learn the XOR task.\n",
        "\n",
        "Once the network learns the XOR task, answer the following questions:\n",
        "\n",
        "*   Compare the learning curves for the AND/OR training patterns against the learning curve for the XOR training pattern. What do you observe? Can you explain the difference in the learning curves?\n",
        "*   Change the weight initialization from $W_{h,x},W_{y,h} \\sim U(0,1)$ to $W_{h,x},W_{y,h} \\sim U(0,0.1)$ and re-run the simulation. What happens? Now change the number of maximum learning epochs from 2,000 to 20,000. Can you explain why the difference in learning dynamics between the two weight initializations?\n",
        "\n"
      ]
    },
    {
      "cell_type": "markdown",
      "metadata": {
        "id": "qBDlvXFSqXvx"
      },
      "source": [
        "#### Define function 'train3LayerNework'"
      ]
    },
    {
      "cell_type": "code",
      "metadata": {
        "id": "dj0fhXpidAP3"
      },
      "source": [
        "def train3LayerNetwork(input_patterns, output_patterns, learning_rate, MSE_threshold, num_epochs):\n",
        "    ### network initialization ###\n",
        "\n",
        "    # let's define the number input and output units as a function of the dimension of the input and output patterns respectively\n",
        "    NInputUnits = input_patterns.shape[1]\n",
        "    NOutputUnits = output_patterns.shape[1]\n",
        "    # set number of hidden units to 3\n",
        "    NHiddenUnits = 3\n",
        "\n",
        "    # now we can intialize the two layers of the network...\n",
        "    x = np.zeros((1, NInputUnits))  # input layer\n",
        "    h = np.zeros((1, NHiddenUnits))  # hidden layer\n",
        "    y = np.zeros((1, NOutputUnits))  # output layer\n",
        "\n",
        "    # let's also log the error of the network\n",
        "    MSE_log = np.zeros((1, num_epochs))\n",
        "\n",
        "    # initialize weights from input layer to the hidden layer\n",
        "    W_hx = np.random.uniform(0, 1, (h.shape[1], x.shape[1]))\n",
        "\n",
        "    # initialize weights from hidden layer to the output layer\n",
        "    W_yh = np.random.uniform(0, 1, (y.shape[1], h.shape[1]))\n",
        "\n",
        "    # initialize weights from bias unit to hidden layer and output layer\n",
        "    W_hbias = np.random.uniform(0, 1, (h.shape[1], 1))\n",
        "    W_ybias = np.random.uniform(0, 1, (y.shape[1], 1))\n",
        "\n",
        "    W_hbias[:, 0] = -2\n",
        "    W_ybias[:, 0] = -2\n",
        "\n",
        "    ### network training ###\n",
        "\n",
        "    # the network will be trained in epochs.\n",
        "    for epoch in range(num_epochs):\n",
        "\n",
        "        # initialize mean squared error log for all patterns\n",
        "        MSE_patterns = np.zeros((output_patterns.shape[0],))\n",
        "\n",
        "        # shuffle input patterns\n",
        "        # np.random.shuffle(input_patterns)\n",
        "\n",
        "        # within each training epoch, we will loop through every training pattern.\n",
        "        for pattern in range(input_patterns.shape[0]):\n",
        "            # FORWARD PASS #\n",
        "\n",
        "            # assign values to input layer\n",
        "            x = np.empty((2, 1))\n",
        "            x[:,0] = input_patterns[pattern,]\n",
        "\n",
        "            # compute net input of hidden layer\n",
        "            hbias = 1 * W_hbias\n",
        "            h_net = ... # YOUR CODE (hint: use np.dot)\n",
        "\n",
        "            # compute activation of hidden layer using sigmoidal activation function\n",
        "            h = ... # YOUR CODE (hint: use np.exp)\n",
        "\n",
        "            # compute net input of output layer\n",
        "            ybias = 1 * W_ybias\n",
        "            y_net = ...  # YOUR CODE (hint: use np.dot)\n",
        "\n",
        "            # compute activation of output layer using sigmoidal activation function\n",
        "            y = ...  # YOUR CODE (hint: use np.exp)\n",
        "\n",
        "            # ERROR BACKPROPAGATION #\n",
        "\n",
        "            # compute the mean squared error of the output with respect to the correct training pattern\n",
        "            MSE_patterns[pattern] = (y - output_patterns[pattern,]) ** 2\n",
        "\n",
        "            # DERIVATIVES\n",
        "\n",
        "            # compute derivative of the error with respect to the output unit activation\n",
        "            dError_dAct_y = (y - output_patterns[pattern,])\n",
        "\n",
        "            # compute derivative of output unit activation with respect to it's net input.\n",
        "            dAct_y_dNet_y = y * (1 - y)\n",
        "\n",
        "            # compute derivative of output unit activation with respect to the net input\n",
        "            dError_dNet_y = dError_dAct_y * dAct_y_dNet_y\n",
        "\n",
        "            # compute derivative of the output unit's net input with respect to the hidden unit activations\n",
        "            dNet_y_d_Act_h = W_yh.T\n",
        "\n",
        "            # compute derivative of the hidden unit activations with respect to the hidden units' net input\n",
        "            dAct_h_dNet_h = h * (1 - h)\n",
        "\n",
        "            # compute derivative of the error with respect to the hidden units' net input\n",
        "            dError_dNet_h = dError_dNet_y * np.multiply(dNet_y_d_Act_h, dAct_h_dNet_h)\n",
        "\n",
        "            # compute derivative of the hidden units' net input with respect to the input-hidden weights\n",
        "            dNet_h_dx = x.T\n",
        "\n",
        "            # compute the derivative of the output unit's net input with respect to hidden-output weights\n",
        "            dNet_h_dW_yh = h.T\n",
        "\n",
        "            # compute the derivative of the net input of the output unit with respect to it's weights to the bias unit\n",
        "            dNet_y_dW_ybias = 1\n",
        "\n",
        "            # compute the derivative of the net input of the hidden units with respect to their weights to the bias unit\n",
        "            dNet_h_dW_hbias = 1\n",
        "\n",
        "            # WEIGHT UPDATES\n",
        "\n",
        "            # compute weight adjustments from the hidden layer to the output layer\n",
        "            delta_W_yh = ... # YOUR CODE\n",
        "\n",
        "            # compute weight adjustments from the bias unit to the output layer\n",
        "            delta_W_ybias = ... # YOUR CODE\n",
        "\n",
        "            # compute weight adjustments from the input layer to the hidden layer\n",
        "            delta_W_hx = ... # YOUR CODE (hint: use dError_dNet_h)\n",
        "\n",
        "            # compute weight adjustments from the bias unit to the hidden layer\n",
        "            delta_W_hbias = ... # YOUR CODE (hint: use dError_dNet_h)\n",
        "\n",
        "            # adjust weights to output layer\n",
        "            W_yh = W_yh - ... # YOUR CODE\n",
        "            W_ybias = W_ybias - ... # YOUR CODE\n",
        "\n",
        "            # adjust weights to hidden layer\n",
        "            W_hx = W_hx - ... # YOUR CODE\n",
        "            W_hbias = W_hbias - ... # YOUR CODE\n",
        "\n",
        "        # log mean squared error for current epoch\n",
        "        MSE_log[0, epoch] = np.sum(MSE_patterns) / MSE_patterns.size\n",
        "\n",
        "        # break if we error threshold is reached\n",
        "        if MSE_log[0, epoch] < MSE_threshold:\n",
        "            break\n",
        "\n",
        "    # plot the error function\n",
        "    plt.plot(MSE_log[0,], '-b')\n",
        "    plt.xlim(0, num_epochs)\n",
        "    plt.xlabel('epoch')\n",
        "    plt.ylim(0.001, 0.3)\n",
        "    plt.yticks([0.01, 0.05, 0.1, 0.15, 0.2, 0.25])\n",
        "    plt.ylabel('MSE')\n",
        "    plt.title('MSE as a function of training epoch')\n",
        "    sns.despine(trim=True)"
      ],
      "execution_count": null,
      "outputs": []
    },
    {
      "cell_type": "markdown",
      "metadata": {
        "id": "mu7QVBA5dA8M"
      },
      "source": [
        "#### Run simulation"
      ]
    },
    {
      "cell_type": "code",
      "metadata": {
        "colab": {
          "base_uri": "https://localhost:8080/",
          "height": 295
        },
        "id": "C2gbsc7lHn0S",
        "outputId": "fd784b99-7c36-49c6-c83e-109f5f488274"
      },
      "source": [
        "# define parameters\n",
        "input = input_patterns\n",
        "output_pattern = output_patterns_XOR # output_patterns_OR # output_patterns_AND\n",
        "learning_rate = 0.5 # learning rate\n",
        "MSE_threshold = 0.01 # the training stops once the MSE is below this value\n",
        "num_epochs = 2000 # maximum number of epochs to train\n",
        "\n",
        "# run the network\n",
        "train3LayerNetwork(input, output_pattern, learning_rate, MSE_threshold, num_epochs)"
      ],
      "execution_count": null,
      "outputs": [
        {
          "output_type": "display_data",
          "data": {
            "image/png": "[encoded data removed]",
            "text/plain": [
              "<Figure size 432x288 with 1 Axes>"
            ]
          },
          "metadata": {
            "needs_background": "light"
          }
        }
      ]
    },
    {
      "cell_type": "markdown",
      "metadata": {
        "id": "fZlOvyOa7Ext"
      },
      "source": [
        "#### **Solution**"
      ]
    },
    {
      "cell_type": "code",
      "metadata": {
        "id": "TYYlfQcudzwU"
      },
      "source": [
        "def train3LayerNetwork(input_patterns, output_patterns, learning_rate, MSE_threshold, num_epochs):\n",
        "    ### network initialization ###\n",
        "\n",
        "    # let's define the number input and output units as a function of the dimension of the input and output patterns respectively\n",
        "    NInputUnits = input_patterns.shape[1]\n",
        "    NOutputUnits = output_patterns.shape[1]\n",
        "    # set number of hidden units to 3\n",
        "    NHiddenUnits = 3\n",
        "\n",
        "    # now we can intialize the two layers of the network...\n",
        "    x = np.zeros((1, NInputUnits))  # input layer\n",
        "    h = np.zeros((1, NHiddenUnits))  # hidden layer\n",
        "    y = np.zeros((1, NOutputUnits))  # output layer\n",
        "\n",
        "    # let's also log the error of the network\n",
        "    MSE_log = np.zeros((1, num_epochs))\n",
        "\n",
        "    # initialize weights from input layer to the hidden layer\n",
        "    W_hx = np.random.uniform(0, 1, (h.shape[1], x.shape[1]))\n",
        "\n",
        "    # initialize weights from hidden layer to the output layer\n",
        "    W_yh = np.random.uniform(0, 1, (y.shape[1], h.shape[1]))\n",
        "\n",
        "    # initialize weights from bias unit to hidden layer and output layer\n",
        "    W_hbias = np.random.uniform(0, 1, (h.shape[1], 1))\n",
        "    W_ybias = np.random.uniform(0, 1, (y.shape[1], 1))\n",
        "\n",
        "    W_hbias[:, 0] = -2\n",
        "    W_ybias[:, 0] = -2\n",
        "\n",
        "    ### network training ###\n",
        "\n",
        "    # the network will be trained in epochs.\n",
        "    for epoch in range(num_epochs):\n",
        "\n",
        "        # initialize mean squared error log for all patterns\n",
        "        MSE_patterns = np.zeros((output_patterns.shape[0],))\n",
        "\n",
        "        # shuffle input patterns\n",
        "        # np.random.shuffle(input_patterns)\n",
        "\n",
        "        # within each training epoch, we will loop through every training pattern.\n",
        "        for pattern in range(input_patterns.shape[0]):\n",
        "            # FORWARD PASS #\n",
        "\n",
        "            # assign values to input layer\n",
        "            x = np.empty((2, 1))\n",
        "            x[:,0] = input_patterns[pattern,]\n",
        "\n",
        "            # compute net input of hidden layer\n",
        "            hbias = 1 * W_hbias\n",
        "            h_net = np.dot(W_hx, x) + hbias # YOUR CODE (hint: use np.dot)\n",
        "\n",
        "            # compute activation of hidden layer using sigmoidal activation function\n",
        "            h = 1 / (np.exp(- (h_net)) + 1)  # YOUR CODE (hint: use np.exp)\n",
        "\n",
        "            # compute net input of output layer\n",
        "            ybias = 1 * W_ybias\n",
        "            y_net = np.dot(W_yh, h) + ybias  # YOUR CODE (hint: use np.dot)\n",
        "\n",
        "            # compute activation of output layer using sigmoidal activation function\n",
        "            y = 1 / (np.exp(- (y_net)) + 1)  # YOUR CODE (hint: use np.exp)\n",
        "\n",
        "            # ERROR BACKPROPAGATION #\n",
        "\n",
        "            # compute the mean squared error of the output with respect to the correct training pattern\n",
        "            MSE_patterns[pattern] = (y - output_patterns[pattern,]) ** 2\n",
        "\n",
        "            # DERIVATIVES\n",
        "\n",
        "            # compute derivative of the error with respect to the output unit activation\n",
        "            dError_dAct_y = (y - output_patterns[pattern,])\n",
        "\n",
        "            # compute derivative of output unit activation with respect to it's net input.\n",
        "            dAct_y_dNet_y = y * (1 - y)\n",
        "\n",
        "            # compute derivative of output unit activation with respect to the net input\n",
        "            dError_dNet_y = dError_dAct_y * dAct_y_dNet_y\n",
        "\n",
        "            # compute derivative of the output unit's net input with respect to the hidden unit activations\n",
        "            dNet_y_d_Act_h = W_yh.T\n",
        "\n",
        "            # compute derivative of the hidden unit activations with respect to the hidden units' net input\n",
        "            dAct_h_dNet_h = h * (1 - h)\n",
        "\n",
        "            # compute derivative of the error with respect to the hidden units' net input\n",
        "            dError_dNet_h = dError_dNet_y * np.multiply(dNet_y_d_Act_h, dAct_h_dNet_h)\n",
        "\n",
        "            # compute derivative of the hidden units' net input with respect to the input-hidden weights\n",
        "            dNet_h_dx = x.T\n",
        "\n",
        "            # compute the derivative of the output unit's net input with respect to hidden-output weights\n",
        "            dNet_h_dW_yh = h.T\n",
        "\n",
        "            # compute the derivative of the net input of the output unit with respect to it's weights to the bias unit\n",
        "            dNet_y_dW_ybias = 1\n",
        "\n",
        "            # compute the derivative of the net input of the hidden units with respect to their weights to the bias unit\n",
        "            dNet_h_dW_hbias = 1\n",
        "\n",
        "            # WEIGHT UPDATES\n",
        "\n",
        "            # compute weight adjustments from the hidden layer to the output layer\n",
        "            delta_W_yh = dError_dNet_y * dNet_h_dW_yh # YOUR CODE\n",
        "\n",
        "            # compute weight adjustments from the bias unit to the output layer\n",
        "            delta_W_ybias = dError_dNet_y * dNet_y_dW_ybias # YOUR CODE\n",
        "\n",
        "            # compute weight adjustments from the input layer to the hidden layer\n",
        "            delta_W_hx = dError_dNet_h * dNet_h_dx # YOUR CODE (hint: use dError_dNet_h)\n",
        "\n",
        "            # compute weight adjustments from the bias unit to the hidden layer\n",
        "            delta_W_hbias = dError_dNet_h * dNet_h_dW_hbias # YOUR CODE (hint: use dError_dNet_h)\n",
        "\n",
        "            # adjust weights to output layer\n",
        "            W_yh = W_yh - learning_rate * delta_W_yh # YOUR CODE\n",
        "            W_ybias = W_ybias - learning_rate * delta_W_ybias # YOUR CODE\n",
        "\n",
        "            # adjust weights to hidden layer\n",
        "            W_hx = W_hx - learning_rate * delta_W_hx # YOUR CODE\n",
        "            W_hbias = W_hbias - learning_rate * delta_W_hbias # YOUR CODE\n",
        "\n",
        "        # log mean squared error for current epoch\n",
        "        MSE_log[0, epoch] = np.sum(MSE_patterns) / MSE_patterns.size\n",
        "\n",
        "        # break if we error threshold is reached\n",
        "        if MSE_log[0, epoch] < MSE_threshold:\n",
        "            break\n",
        "\n",
        "    # plot the error function\n",
        "    plt.plot(MSE_log[0,], '-b')\n",
        "    plt.xlim(0, num_epochs)\n",
        "    plt.xlabel('epoch')\n",
        "    plt.ylim(0.001, 0.3)\n",
        "    plt.yticks([0.01, 0.05, 0.1, 0.15, 0.2, 0.25])\n",
        "    plt.ylabel('MSE')\n",
        "    plt.title('MSE as a function of training epoch')\n",
        "    sns.despine(trim=True)"
      ],
      "execution_count": null,
      "outputs": []
    },
    {
      "cell_type": "markdown",
      "metadata": {
        "id": "p9lvCXRhBffF"
      },
      "source": [
        "**Answers**\n",
        "\n",
        "*   When comparing the learning curves for the AND/OR and the XOR condition, you should observe that the network requires fewer training iterations to learn AND/OR compared to XOR. Moreover, you may also observe a two-stage learning curve for the XOR condition in which learning slows down and then accelerates again. This reflects an additional adjustment of the input-hidden weights that is required to learn the XOR rule. First, the network learns to adjust the hidden-output weights to reduce the error—this already sufficient to learn the OR/AND rule. However, to learn the XOR rule, the network needs to learn a non-linear mapping of the input space, thus, requiring an additional adjustment of the input-hidden weights (reflected in the second acceleration of the learning curve). Such stage-like transitions in the learning curve can explain developmental transitions in semantic cognition (Saxe, Ganguli, McClelland, 2019).\n",
        "*   When the network is initialized with smaller weights, its gradient updates end up being fairly small (due to the small derivatives). Thus, the network requires more iterations for training. This small exercise demonstrates that weight initialization matters. In fact, a good chunk of machine learning research is concerned with identifying good initialization conditions."
      ]
    },
    {
      "cell_type": "markdown",
      "metadata": {
        "id": "CPzM6CFGloxt"
      },
      "source": [
        "## A Neural Network Model of Mental Effort"
      ]
    },
    {
      "cell_type": "markdown",
      "metadata": {
        "id": "LVtRHa8fBvxE"
      },
      "source": [
        "Now that you are equipped with a basic understanding of neural networks, you might wonder how you can use these kind of modeling too to understand mechanisms underlying mental effort? In this section, we will introduce a neural network model of mental effort, called the **Stroop model** (Cohen, Dunbar, & McClelland, 1990).\n",
        "\n",
        "### Performance in the Stroop Task as a Measure of Mental Effort\n",
        "\n",
        "The Stroop model operationalizes mental effort as cognitive control, that is, our ability to override habitual responses in order to align behavior with current task goals. For instance, you may be familiar with the so-called Stroop task in which participants have to name the color of a color word, e.g., say \"green\" in response to:\n",
        "\n",
        "<font color=\"green\" size=13> **RED** </font>\n",
        "\n",
        "We call this stimulus \"incongruent\" because the color and the word are associated with different responses. A congruent stimulus looks like this:\n",
        "\n",
        "<font color=\"green\" size=13> **GREEN** </font>\n",
        "\n",
        "Finally, there may be so-called neutral stimuli in which the participant has to respond to the color of a non-word:\n",
        "\n",
        "<font color=\"green\" size=13> **XXXX** </font>\n",
        "\n",
        "When studying human performance in the Stroop task, one can measure the error rate as a function of stimulus condition (neutral, incongruent, congruent), and as function of which task the participant performs (color naming or word reading). Human performance matches qualitatively this pattern:\n",
        "\n",
        "<p align='center'><img src='https://raw.githubusercontent.com/jmasis/nntutorialmentaleffort2021/main/stroop_results.png'\n",
        "alt=\"3-layer network with bias units\" width=300px height=auto/></p>\n",
        "\n",
        "That is, cognitive psychologists found that participants make fewer errors when being asked to respond to the word (performing the *word reading task*) compared to responding to the color (performing the *color naming task*). Thus, researchers assumed that word reading requires less mental effort (cognitive control) than color naming. In addition, participants make fewer errors when color naming to congruent relative to incongruent stimuli, irrespective of the task. Analogously, researchers hypothesized that congruent stimuli require less mental effort (cognitive control) than incongruent stimuli."
      ]
    },
    {
      "cell_type": "markdown",
      "metadata": {
        "id": "kwe5nBKxLUhm"
      },
      "source": [
        "### The Stroop Model\n",
        "\n",
        "To explain these effects, Cohen et al. (1990) came up with a neural network model that operationalizes mental effort. The model looks like this (adapted from Figure 1 of Cohen et al, 1990):\n",
        "\n",
        "<p align='center'><img src='https://raw.githubusercontent.com/jmasis/nntutorialmentaleffort2021/main/stroop_neural_network_simple.png'\n",
        "alt=\"3-layer network with bias units\" width=500px height=auto/></p>\n",
        "\n",
        "\n",
        "The network consists of three input layers, two hidden layers and one output layer. The input layer on the left encodes the ink color of the stimulus. For instance, if the stimulus was shown in green red, we may set the input vector for the INK COLOR layer to $\\begin{bmatrix} 1 & 0 \\end{bmatrix}$. The input layer on the right encodes the current word. For instance, if the word would is \"GREEN\" then we can set the word input layer to $\\begin{bmatrix} 0 & 1 \\end{bmatrix}$. Finally, the input layer in the middle encodes the task to be performed on the two stimuli. For instance, if the participant would be asked to perform the color naming task, one would set the input units of the task demand layer to $\\begin{bmatrix} 1 & 0 \\end{bmatrix}$.\n",
        "\n",
        "The input layers project to two hidden layers, one that represents colors and another one that represents words. E.g., the first unit in the color hidden layer represents the color green. Note that inhibitory connections (negative weights) are depicted as dashed arrows. Finally, both hidden layers project to respective response units in the output layer.\n",
        "\n",
        "Note that the output layer receives inputs from two sources, the color hidden layer and the word hidden layer. Thus, if the information represented in the color and word hidden layers is incongruent, then the output layer will receive conflicting responses. However, an important feature of the Stroop model is that the hidden and output units are inhibited at rest. That is, these units receive a negative weight from a bias unit. Thus, a more accurate depiction of the network would be:\n",
        "\n",
        "<p align='center'><img src='https://raw.githubusercontent.com/jmasis/nntutorialmentaleffort2021/main/stroop_neural_network.png'\n",
        "alt=\"3-layer network with bias units\" width=500px height=auto/></p>\n",
        "\n",
        "where the green units are bias units. The inhibition is so strong that, without any input from the *TASK DEMAND* layer, the information from the color and word input layers would not \"make it through\" the hidden layers to the output layer. This is because adding a negative bias pushes the non-linear activation function to the right (see section \"The Role of Bias Units\" above).\n",
        "\n",
        "<p align='center'><img src='https://github.com/jmasis/nntutorialmentaleffort2021/blob/326079df67a7bfe602d30d6aee246b64f53b0f39/BiasEffect.png?raw=True'\n",
        "alt=\"Effect of bias on sigmoidal activation function\" width=400px height=auto/></p>\n",
        "\n",
        "As a consequence, small net inputs will evaluate to something close to zero. However, the cool part about the Stroop model is that the *TASK DEMAND* layer can provide additional net input to the hidden units, making it possible to disinhibit them. For instance, if we set the color naming unit to 1, then we can provide additonal net input to the color hidden units. This negates the negative bias, allowing information from the *INK COLOR* input layer to flow through to the *RESPONSE* layer. Conversely, if we leave the word reading unit in the *TASK DEMAND* layer at 0, then the information from the *WORD* layer cannot leak through. The output layer would then only receive input from the color hidden units, thus enabling the network to perform the color naming task. This provides a mechanism for mental effort: allocating mental effort to a task means to activate a task demand unit (i.e., set it to 1).\n",
        "\n",
        "Now lets look into an actual implementation of the Stroop model...\n"
      ]
    },
    {
      "cell_type": "markdown",
      "metadata": {
        "id": "HZi0gX9bQMYP"
      },
      "source": [
        "The following function \"**runStroopNetwork**\" implements the Stroop model. Note that the weights are denoted as \"W_source_layer_target_layer\". However, the weights are not yet defined—this is OK! Defining the weights will be part of an exercise that we will come to later. For now, let's just execute the function below and have a closer look..."
      ]
    },
    {
      "cell_type": "code",
      "metadata": {
        "id": "Pi5Cc1dZ6K8K"
      },
      "source": [
        "# this function accepts a single input pattern for the color, word and task input layers\n",
        "# and produces a response at the output layer.\n",
        "def runStroopNetwork(color_input, word_input, task_input):\n",
        "\n",
        "    # compute activation of color hidden layer\n",
        "    net_hidden_color = np.dot(color_input, W_input_color_hidden_color) + \\\n",
        "                       np.dot(task_input, W_input_task_hidden_color) + \\\n",
        "                       bias\n",
        "\n",
        "    act_hidden_color = 1 / (1 + np.exp(-net_hidden_color))\n",
        "\n",
        "    # compute activation of word hidden layer\n",
        "    net_hidden_word = np.dot(word_input, W_input_word_hidden_word) + \\\n",
        "                      np.dot(task_input, W_input_task_hidden_word) + \\\n",
        "                      bias\n",
        "\n",
        "    act_hidden_word = 1 / (1 + np.exp(-net_hidden_word))\n",
        "\n",
        "    # compute activation of output layer\n",
        "    net_output = np.dot(act_hidden_color, W_hidden_color_output) + \\\n",
        "                 np.dot(act_hidden_word, W_hidden_word_output)\n",
        "\n",
        "    act_output = 1 / (1 + np.exp(-net_output))\n",
        "\n",
        "    # We apply the softmax function convert the output activation for each unit (response) into a probability\n",
        "    response_probability = np.exp(net_output) / np.sum(np.exp(net_output), axis=1)\n",
        "\n",
        "    return response_probability"
      ],
      "execution_count": null,
      "outputs": []
    },
    {
      "cell_type": "markdown",
      "metadata": {
        "id": "PWZ6AINRQ7_L"
      },
      "source": [
        "You may notice that the network is not very special, at least computationally: It performs the same net input integration, anf non-linear activation functions as the networks in the previous sections. There are only three things that make this network special compared to the network above:\n",
        "\n",
        "\n",
        "1.   It has more than one output unit.\n",
        "2.   It has multiple (3) input layers and multiple (2) hidden layers.\n",
        "3.   It uses a softmax function at the output layer.\n",
        "\n",
        "The first two points aren't really new, since they are simple extensions of the formalism introduced above; So let's have a look at the computation of the output layer...\n",
        "\n",
        "The response probabilities of the network are computed as follows:\n",
        "\n",
        "\\begin{align}\n",
        "P(\\text{red}) &= \\frac{e^{net_{\\text{output},red}}}{e^{net_{\\text{output},red}} + e^{net_{\\text{output},green}}} \\\\\n",
        "P(\\text{green}) = 1 - P(\\text{red}) &= \\frac{e^{net_{\\text{output},green}}}{e^{net_{\\text{output},red}} + e^{net_{\\text{output},green}}}\n",
        "\\end{align}\n",
        "\n",
        "This function is called the **softmax** function. All it does is that it forces the activities for both output units to sum up to 1. Thus, we can treat them as probabilities. The response probability for each unit is proportional to its respective net input, weighted by the net input of the other unit.\n",
        "\n",
        "OK, now that we have a Stroop model, we need an experiment environment. The following function \"**runStroopExperiment**\" probes the network's response for different Stroop conditions (see the code below). For now, let's just execute the function so we can call it later...\n",
        "\n",
        "\n",
        "\n"
      ]
    },
    {
      "cell_type": "code",
      "metadata": {
        "id": "Ub80CeDw6TtS"
      },
      "source": [
        "# computes the network's error rate across different conditions\n",
        "\n",
        "def runStroopExperiment():\n",
        "    # color naming, congruent stimulus\n",
        "    color_input = np.array([[1, 0]])    # color: red\n",
        "    word_input = np.array([[1, 0]])     # word: red\n",
        "    task_input = np.array([[1, 0]])     # task: color naming\n",
        "    cn_congruent = runStroopNetwork(color_input, word_input, task_input)\n",
        "\n",
        "    # color naming, incongruent stimulus\n",
        "    color_input = np.array([[1, 0]])    # color: red\n",
        "    word_input = np.array([[0, 1]])     # word: green\n",
        "    task_input = np.array([[1, 0]])     # task: color naming\n",
        "    cn_incongruent = runStroopNetwork(color_input, word_input, task_input)\n",
        "\n",
        "    # color naming, neutral stimulus\n",
        "    color_input = np.array([[1, 0]])    # color: red\n",
        "    word_input = np.array([[0, 0]])     # word: XXX\n",
        "    task_input = np.array([[1, 0]])     # task: color naming\n",
        "    cn_neutral = runStroopNetwork(color_input, word_input, task_input)\n",
        "\n",
        "    # word reading, congruent stimulus\n",
        "    color_input = np.array([[1, 0]])    # color: red\n",
        "    word_input = np.array([[1, 0]])     # word: red\n",
        "    task_input = np.array([[0, 1]])     # task: word reading\n",
        "    wr_congruent = runStroopNetwork(color_input, word_input, task_input)\n",
        "\n",
        "    # word reading, incongruent stimulus\n",
        "    color_input = np.array([[0, 1]])    # color: green\n",
        "    word_input = np.array([[1, 0]])     # word: red\n",
        "    task_input = np.array([[0, 1]])     # task: word reading\n",
        "    wr_incongruent = runStroopNetwork(color_input, word_input, task_input)\n",
        "\n",
        "    # word reading, neutral stimulus\n",
        "    color_input = np.array([[0, 0]])    # color: red\n",
        "    word_input = np.array([[1, 0]])     # word: red\n",
        "    task_input = np.array([[0, 1]])     # task: word reading\n",
        "    wr_neutral = runStroopNetwork(color_input, word_input, task_input)\n",
        "\n",
        "    # plot error rates for each condition (assuming \"red\" is the correct response)\n",
        "    cn_congruent_error_rate = 1 - cn_congruent[0, 0]\n",
        "    cn_incongruent_error_rate = 1 - cn_incongruent[0, 0]\n",
        "    cn_neutral_error_rate = 1 - cn_neutral[0, 0]\n",
        "    wr_congruent_error_rate = 1 - wr_congruent[0, 0]\n",
        "    wr_incongruent_error_rate = 1 - wr_incongruent[0, 0]\n",
        "    wr_neutral_error_rate = 1 - wr_neutral[0, 0]\n",
        "\n",
        "    return (cn_congruent_error_rate, cn_incongruent_error_rate, cn_neutral_error_rate,\n",
        "            wr_congruent_error_rate, wr_incongruent_error_rate, wr_neutral_error_rate)"
      ],
      "execution_count": null,
      "outputs": []
    },
    {
      "cell_type": "markdown",
      "metadata": {
        "id": "q7b2PD24T9au"
      },
      "source": [
        "### Exercise 3.1\n",
        "\n",
        "Now that we have a Stroop model and a Stroop experiment, let's see how it behaves. The following code section defines the weights for the Stroop model and measures its performance. Execute the code block and see what happens.\n",
        "Does the network produce the expected behavior? Well, of course not, otherwise this wouldn't be an exercise. Now, can you adjust the weights of the Stroop model so that it produces behavior similar to the figure shown above?\n",
        "\n",
        "Open ended exercise: A major tenet of the Stroop model is that the word reading task requires less effort because it's processing path from the input to the output layer is stronger, as a consequence of training (lifelong practice on word reading as opposed to color naming). Wouldn't it be nice if we could show that this behavior results indeed from training? To do so, you may want to think tacke two extended exercises:\n",
        "\n",
        "\n",
        "1.   Apply the backpropagation algorithm to make the Stroop network trainable.\n",
        "2.   Train the Stroop network on a higher proportion of word reading conditions than color naming conditions. Can you replicate the behavioral pattern expected in the Stroop task?\n",
        "\n"
      ]
    },
    {
      "cell_type": "code",
      "metadata": {
        "id": "yZmKYcoDlwAH",
        "colab": {
          "base_uri": "https://localhost:8080/",
          "height": 269
        },
        "outputId": "7752718c-5963-4cfd-dd7c-082451f42753"
      },
      "source": [
        "# STROOP NETWORK WEIGHTS\n",
        "\n",
        "bias = -4\n",
        "\n",
        "# weights projecting from color input layer to color hidden layer\n",
        "W_input_color_hidden_color = 2 * np.array([[1, -1],   # EXPERIMENT WITH THESE WEIGHTS\n",
        "                                             [-1, 1]])\n",
        "\n",
        "# weights projecting from color hidden layer to output layer\n",
        "W_hidden_color_output = 2 * np.array([[1, -1],    # EXPERIMENT WITH THESE WEIGHTS\n",
        "                                        [-1, 1]])\n",
        "\n",
        "# weights projecting from word input layer to word hidden layer\n",
        "W_input_word_hidden_word = 2 * np.array([[1, -1],   # EXPERIMENT WITH THESE WEIGHTS\n",
        "                                           [-1, 1]])\n",
        "\n",
        "# weights projecting from word hidden layer to output layer\n",
        "W_hidden_word_output = 2 * np.array([[1, -1],   # EXPERIMENT WITH THESE WEIGHTS\n",
        "                                      [-1, 1]])\n",
        "\n",
        "# weights projecting from task layer to color hidden layer\n",
        "W_input_task_hidden_color = 4.0 * np.array([[1, 1],   # EXPERIMENT WITH THESE WEIGHTS\n",
        "                                            [0, 0]])\n",
        "\n",
        "# weights projecting from task layer to word hidden layer\n",
        "W_input_task_hidden_word = 4.0 * np.array([[0, 0],    # EXPERIMENT WITH THESE WEIGHTS\n",
        "                                           [1, 1]])\n",
        "\n",
        "\n",
        "# PLOT THE NETWORK PERFORMANCE\n",
        "\n",
        "(cn_congruent_error_rate, cn_incongruent_error_rate, cn_neutral_error_rate,\n",
        "            wr_congruent_error_rate, wr_incongruent_error_rate, wr_neutral_error_rate) = runStroopExperiment()\n",
        "\n",
        "x_data = [0, 1, 2]\n",
        "y_data_col = [cn_neutral_error_rate * 100, cn_incongruent_error_rate * 100, cn_congruent_error_rate * 100]\n",
        "y_data_wrd = [wr_neutral_error_rate * 100, wr_incongruent_error_rate * 100, wr_congruent_error_rate * 100]\n",
        "x_limit = [-0.5, 2.5]\n",
        "y_limit = [0, 100]\n",
        "x_label = \"Condition\"\n",
        "y_label = \"Error Rate (%)\"\n",
        "legend = ('color naming', 'word reading')\n",
        "\n",
        "plt.plot(x_data, y_data_col, label=legend[0])\n",
        "plt.plot(x_data, y_data_wrd, '--', label=legend[1])\n",
        "plt.xlim(x_limit)\n",
        "plt.ylim(y_limit)\n",
        "plt.ylabel(y_label, fontsize=\"large\")\n",
        "plt.legend(loc=2, fontsize=\"large\")\n",
        "plt.xticks([0, 1, 2], ['Neutral', 'Incongruent', 'Congruent'],rotation=0)\n",
        "plt.show()"
      ],
      "execution_count": null,
      "outputs": [
        {
          "output_type": "display_data",
          "data": {
            "image/png": "[encoded data removed]",
            "text/plain": [
              "<Figure size 432x288 with 1 Axes>"
            ]
          },
          "metadata": {
            "needs_background": "light"
          }
        }
      ]
    },
    {
      "cell_type": "markdown",
      "metadata": {
        "id": "cFHu6yz8UnW5"
      },
      "source": [
        "#### Solution"
      ]
    },
    {
      "cell_type": "code",
      "metadata": {
        "colab": {
          "base_uri": "https://localhost:8080/",
          "height": 269
        },
        "id": "nWCZyOMnUpw7",
        "outputId": "aec2d4f2-28b3-4105-daf9-9c66e476e7b7"
      },
      "source": [
        "# STROOP NETWORK WEIGHTS\n",
        "\n",
        "bias = -4\n",
        "\n",
        "# weights projecting from color input layer to color hidden layer\n",
        "W_input_color_hidden_color = 2.2 * np.array([[1, -1],\n",
        "                                             [-1, 1]])\n",
        "\n",
        "# weights projecting from color hidden layer to output layer\n",
        "W_hidden_color_output = 1.3 * np.array([[1, -1],\n",
        "                                        [-1, 1]])\n",
        "\n",
        "# weights projecting from word input layer to word hidden layer\n",
        "W_input_word_hidden_word = 2.6 * np.array([[1, -1],\n",
        "                                           [-1, 1]])\n",
        "\n",
        "# weights projecting from word hidden layer to output layer\n",
        "W_hidden_word_output = 2.5 * np.array([[1, -1],\n",
        "                                      [-1, 1]])\n",
        "\n",
        "# weights projecting from task layer to color hidden layer\n",
        "W_input_task_hidden_color = 4.0 * np.array([[1, 1],\n",
        "                                            [0, 0]])\n",
        "\n",
        "# weights projecting from task layer to word hidden layer\n",
        "W_input_task_hidden_word = 4.0 * np.array([[0, 0],\n",
        "                                           [1, 1]])\n",
        "\n",
        "\n",
        "# PLOT THE NETWORK PERFORMANCE\n",
        "\n",
        "(cn_congruent_error_rate, cn_incongruent_error_rate, cn_neutral_error_rate,\n",
        "            wr_congruent_error_rate, wr_incongruent_error_rate, wr_neutral_error_rate) = runStroopExperiment()\n",
        "\n",
        "x_data = [0, 1, 2]\n",
        "y_data_col = [cn_neutral_error_rate * 100, cn_incongruent_error_rate * 100, cn_congruent_error_rate * 100]\n",
        "y_data_wrd = [wr_neutral_error_rate * 100, wr_incongruent_error_rate * 100, wr_congruent_error_rate * 100]\n",
        "x_limit = [-0.5, 2.5]\n",
        "y_limit = [0, 100]\n",
        "x_label = \"Condition\"\n",
        "y_label = \"Error Rate (%)\"\n",
        "legend = ('color naming', 'word reading')\n",
        "\n",
        "plt.plot(x_data, y_data_col, label=legend[0])\n",
        "plt.plot(x_data, y_data_wrd, '--', label=legend[1])\n",
        "plt.xlim(x_limit)\n",
        "plt.ylim(y_limit)\n",
        "plt.ylabel(y_label, fontsize=\"large\")\n",
        "plt.legend(loc=2, fontsize=\"large\")\n",
        "plt.xticks([0, 1, 2], ['Neutral', 'Incongruent', 'Congruent'],rotation=0)\n",
        "plt.show()"
      ],
      "execution_count": null,
      "outputs": [
        {
          "output_type": "display_data",
          "data": {
            "image/png": "[encoded data removed]",
            "text/plain": [
              "<Figure size 432x288 with 1 Axes>"
            ]
          },
          "metadata": {
            "needs_background": "light"
          }
        }
      ]
    },
    {
      "cell_type": "markdown",
      "metadata": {
        "id": "6KbkL8Q2GAzX"
      },
      "source": [
        "# References and Further Reading\n",
        "\n",
        "#### General Introductions\n",
        "\n",
        "*   **Neural network models of human cognition**: McClelland, James L., David E. Rumelhart, and PDP Research Group. Parallel distributed processing. Vol. 2. Cambridge, MA: MIT press, 1986.\n",
        "*   **Biologically-inspired neural network models**: O'Reilly, R. C., & Munakata, Y. (2000). Computational explorations in cognitive neuroscience: Understanding the mind by simulating the brain. MIT press.\n",
        "*   **Machine learning**: Goodfellow, I., Bengio, Y., & Courville, A. (2016). Deep learning. MIT press.\n",
        "\n",
        "\n",
        "#### Neural Networks as Models of Mental Effort\n",
        "*   **Cognitive Control & the Stroop Task**: Cohen, J. D., Dunbar, K., & McClelland, J. L. (1990). On the control of automatic processes: a parallel distributed processing account of the Stroop effect. Psychological review, 97(3), 332.\n",
        "*   **Cognitive Control & Conflict Monitoring**: Botvinick, M. M., Braver, T. S., Barch, D. M., Carter, C. S., & Cohen, J. D. (2001). Conflict monitoring and cognitive control. Psychological review, 108(3), 624.\n",
        "*   **Cognitive Control & Task Switching**: Gilbert, S. J., & Shallice, T. (2002). Task switching: A PDP model. Cognitive psychology, 44(3), 297-337.\n",
        "*   **Cognitive Control & Multitasking**: Musslick, S., & Cohen, J. D. (2021). Rationalizing constraints on the capacity for cognitive control. Trends in Cognitive Sciences. 25(9), 757–775\n",
        "*   **Decision-Making**: Usher, M., & McClelland, J. L. (2001). The time course of perceptual choice: the leaky, competing accumulator model. Psychological review, 108(3), 550.\n",
        "\n",
        "#### Other References\n",
        "*   **Recommended tutorial for machine learning**: https://pytorch.org/tutorials/beginner/deep_learning_60min_blitz.html\n",
        "*   **Early criticism of neural networks**: Minksy, M., & Papert, S. (1969). Perceptrons: An Introduction to Computational Geometry. MIT. Press.\n",
        "*   **Semantic Cognition**: Rogers, T. T., & McClelland, J. L. (2004). Semantic cognition: A parallel distributed processing approach. MIT press.\n",
        "*   **Semantic Development**: Saxe, A. M., McClelland, J. L., & Ganguli, S. (2019). A mathematical theory of semantic development in deep neural networks. Proceedings of the National Academy of Sciences, 116(23), 11537-11546."
      ]
    }
  ]
}